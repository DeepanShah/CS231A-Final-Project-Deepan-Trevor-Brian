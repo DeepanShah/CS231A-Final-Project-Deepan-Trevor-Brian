{
  "nbformat": 4,
  "nbformat_minor": 0,
  "metadata": {
    "colab": {
      "provenance": []
    },
    "kernelspec": {
      "name": "python3",
      "display_name": "Python 3"
    },
    "language_info": {
      "name": "python"
    }
  },
  "cells": [
    {
      "cell_type": "code",
      "source": [
        "!pip install rasterio"
      ],
      "metadata": {
        "colab": {
          "base_uri": "https://localhost:8080/"
        },
        "id": "yNKMPmBSYiBz",
        "outputId": "c48f4120-5f13-43f2-b044-472b68a7a5e2"
      },
      "execution_count": null,
      "outputs": [
        {
          "output_type": "stream",
          "name": "stdout",
          "text": [
            "Looking in indexes: https://pypi.org/simple, https://us-python.pkg.dev/colab-wheels/public/simple/\n",
            "Collecting rasterio\n",
            "  Downloading rasterio-1.3.6-cp39-cp39-manylinux_2_17_x86_64.manylinux2014_x86_64.whl (20.1 MB)\n",
            "\u001b[2K     \u001b[90m━━━━━━━━━━━━━━━━━━━━━━━━━━━━━━━━━━━━━━━━\u001b[0m \u001b[32m20.1/20.1 MB\u001b[0m \u001b[31m55.2 MB/s\u001b[0m eta \u001b[36m0:00:00\u001b[0m\n",
            "\u001b[?25hCollecting cligj>=0.5\n",
            "  Downloading cligj-0.7.2-py3-none-any.whl (7.1 kB)\n",
            "Collecting snuggs>=1.4.1\n",
            "  Downloading snuggs-1.4.7-py3-none-any.whl (5.4 kB)\n",
            "Collecting click-plugins\n",
            "  Downloading click_plugins-1.1.1-py2.py3-none-any.whl (7.5 kB)\n",
            "Requirement already satisfied: attrs in /usr/local/lib/python3.9/dist-packages (from rasterio) (22.2.0)\n",
            "Collecting affine\n",
            "  Downloading affine-2.4.0-py3-none-any.whl (15 kB)\n",
            "Requirement already satisfied: certifi in /usr/local/lib/python3.9/dist-packages (from rasterio) (2022.12.7)\n",
            "Requirement already satisfied: click>=4.0 in /usr/local/lib/python3.9/dist-packages (from rasterio) (8.1.3)\n",
            "Requirement already satisfied: setuptools in /usr/local/lib/python3.9/dist-packages (from rasterio) (63.4.3)\n",
            "Requirement already satisfied: numpy>=1.18 in /usr/local/lib/python3.9/dist-packages (from rasterio) (1.22.4)\n",
            "Requirement already satisfied: pyparsing>=2.1.6 in /usr/local/lib/python3.9/dist-packages (from snuggs>=1.4.1->rasterio) (3.0.9)\n",
            "Installing collected packages: snuggs, cligj, click-plugins, affine, rasterio\n",
            "Successfully installed affine-2.4.0 click-plugins-1.1.1 cligj-0.7.2 rasterio-1.3.6 snuggs-1.4.7\n"
          ]
        }
      ]
    },
    {
      "cell_type": "code",
      "source": [
        "from google.colab import drive\n",
        "\n",
        "drive.mount('/content/drive', force_remount=True)\n",
        "\n",
        "# Enter the foldername in your Drive where you have saved the unzipped\n",
        "# '.py' files from the p1 folder\n",
        "# e.g. 'cs231a/pset3/p1'\n",
        "FOLDERNAME = '/content/drive/MyDrive/CS 231A Project'\n",
        "\n",
        "assert FOLDERNAME is not None, \"/content/drive/MyDrive/CS 231A Project\"\n",
        "\n",
        "%cd $FOLDERNAME\n",
        "print('Files in this folder:')\n",
        "%ls ."
      ],
      "metadata": {
        "colab": {
          "base_uri": "https://localhost:8080/"
        },
        "id": "45JfPAQbb77A",
        "outputId": "024042b2-1249-4c28-94dc-25a7b73cb7c3"
      },
      "execution_count": null,
      "outputs": [
        {
          "output_type": "stream",
          "name": "stdout",
          "text": [
            "Mounted at /content/drive\n",
            "/content/drive/MyDrive/CS 231A Project\n",
            "Files in this folder:\n",
            " \u001b[0m\u001b[01;34m100_0021\u001b[0m/\n",
            " \u001b[01;34m100_0022\u001b[0m/\n",
            "\u001b[01;34m'Agisoft DEMS & Orthomosaics'\u001b[0m/\n",
            " \u001b[01;34mall_obsidian\u001b[0m/\n",
            " base_photo.jpg\n",
            "\u001b[01;34m'Courtright Orthos'\u001b[0m/\n",
            "'Courtright Topo Diff (Agi-ODM).tif'\n",
            "'CS 231A Project Outline.gdoc'\n",
            " dsm_Courtright.tif\n",
            "\u001b[01;34m'error photos'\u001b[0m/\n",
            "'Final Project Report.gdoc'\n",
            "'Final Project Task List.gdoc'\n",
            "'Ground Truth Analysis.gsheet'\n",
            "'ground-truth-boulders-courtright-reservoir (1).zip'\n",
            "'Milestone Report.gdoc'\n",
            "'Notes on Using Agisoft.gdoc'\n",
            "\u001b[01;34m'Ob Orthos'\u001b[0m/\n",
            "'Obsidian Dorm DEM Diff (Agi-odm).tif'\n",
            "\u001b[01;34m'ODM Courtright TIFS'\u001b[0m/\n",
            " odm_dsm_obsidian.tif\n",
            " odm_orthophoto_obsidian.tif\n",
            "\u001b[01;34m'Original Image Data'\u001b[0m/\n",
            "'Project Milestone Report.gdoc'\n",
            "'Project Proposal.gdoc'\n",
            "'Project Proposal Ideas.gdoc'\n",
            "\u001b[01;34m'Reading Notes'\u001b[0m/\n",
            "'Research on Technical Details of Agisoft and WebODM.gdoc'\n",
            "\u001b[01;34m'Stitched Images'\u001b[0m/\n",
            " TopoDiffCourtright.tif\n",
            "'Traced Boulders.zip'\n"
          ]
        }
      ]
    },
    {
      "cell_type": "code",
      "execution_count": null,
      "metadata": {
        "id": "P9Oqq6wjXmhN"
      },
      "outputs": [],
      "source": [
        "#From here\n",
        "\n",
        "import rasterio\n",
        "import numpy as np\n",
        "band_id = 1  # this assumes you want the first band, change to match the band number you want\n",
        "\n",
        "raster = rasterio.open('CourtrightTopoDiffFixed.tif')\n",
        "band_arr = raster.read(band_id)  # band_arr is a numpy array of shape (raster.width, raster.height)"
      ]
    },
    {
      "cell_type": "code",
      "source": [
        "band_arr[band_arr > 10000] = np.nan\n",
        "band_arr[band_arr < -10000] = np.nan"
      ],
      "metadata": {
        "id": "5ikqSpaKcUE2"
      },
      "execution_count": null,
      "outputs": []
    },
    {
      "cell_type": "code",
      "source": [
        "np.nanmean(band_arr)"
      ],
      "metadata": {
        "colab": {
          "base_uri": "https://localhost:8080/"
        },
        "id": "NSkGC64Ic3ET",
        "outputId": "f29f63bb-a69b-4272-d47b-4d8066c3a051"
      },
      "execution_count": null,
      "outputs": [
        {
          "output_type": "execute_result",
          "data": {
            "text/plain": [
              "-0.84777707"
            ]
          },
          "metadata": {},
          "execution_count": 25
        }
      ]
    },
    {
      "cell_type": "code",
      "source": [
        "absoluteDiff = np.absolute(band_arr)"
      ],
      "metadata": {
        "id": "W6SR8H2kdiIC"
      },
      "execution_count": null,
      "outputs": []
    },
    {
      "cell_type": "code",
      "source": [
        "np.nanmean(absoluteDiff)"
      ],
      "metadata": {
        "colab": {
          "base_uri": "https://localhost:8080/"
        },
        "id": "y9EJJpGZdk7b",
        "outputId": "8a304c79-0bf2-4718-cc0e-1368765f9cdf"
      },
      "execution_count": null,
      "outputs": [
        {
          "output_type": "execute_result",
          "data": {
            "text/plain": [
              "2.2015877"
            ]
          },
          "metadata": {},
          "execution_count": 27
        }
      ]
    },
    {
      "cell_type": "code",
      "source": [
        "diffSquared = np.square(band_arr)"
      ],
      "metadata": {
        "id": "eXfKojC_dLSF"
      },
      "execution_count": null,
      "outputs": []
    },
    {
      "cell_type": "code",
      "source": [
        "np.sqrt(np.nanmean(diffSquared))"
      ],
      "metadata": {
        "colab": {
          "base_uri": "https://localhost:8080/"
        },
        "id": "_4QMeJGIdYOY",
        "outputId": "eb587810-6f6a-4c85-9855-a4275e33766c"
      },
      "execution_count": null,
      "outputs": [
        {
          "output_type": "execute_result",
          "data": {
            "text/plain": [
              "5.092793"
            ]
          },
          "metadata": {},
          "execution_count": 29
        }
      ]
    },
    {
      "cell_type": "markdown",
      "source": [
        "Obsidian Dome"
      ],
      "metadata": {
        "id": "q07jk7w6hTGT"
      }
    },
    {
      "cell_type": "code",
      "source": [
        "band_id = 1  # this assumes you want the first band, change to match the band number you want\n",
        "\n",
        "raster = rasterio.open('TopoDiffObsidian.tif')\n",
        "band_arr_obs = raster.read(band_id)  # band_arr is a numpy array of shape (raster.width, raster.height"
      ],
      "metadata": {
        "id": "-WUfbPI-hUNQ"
      },
      "execution_count": null,
      "outputs": []
    },
    {
      "cell_type": "code",
      "source": [
        "band_arr_obs[band_arr_obs > 10000] = np.nan\n",
        "band_arr_obs[band_arr_obs < -10000] = np.nan"
      ],
      "metadata": {
        "id": "wSkcVxvXhWKN"
      },
      "execution_count": null,
      "outputs": []
    },
    {
      "cell_type": "code",
      "source": [
        "np.nanmean(band_arr_obs)"
      ],
      "metadata": {
        "colab": {
          "base_uri": "https://localhost:8080/"
        },
        "id": "-z5Nwku0hXW6",
        "outputId": "3d950925-bbaf-48fc-d963-0bcc20719a42"
      },
      "execution_count": null,
      "outputs": [
        {
          "output_type": "execute_result",
          "data": {
            "text/plain": [
              "-2.875486"
            ]
          },
          "metadata": {},
          "execution_count": 32
        }
      ]
    },
    {
      "cell_type": "code",
      "source": [
        "absoluteDiff_obs = np.absolute(band_arr_obs)\n",
        "np.nanmean(absoluteDiff_obs)"
      ],
      "metadata": {
        "colab": {
          "base_uri": "https://localhost:8080/"
        },
        "id": "u_MLof15hYip",
        "outputId": "1b5c5aec-6280-4afc-cb07-c16c633d804d"
      },
      "execution_count": null,
      "outputs": [
        {
          "output_type": "execute_result",
          "data": {
            "text/plain": [
              "3.7406237"
            ]
          },
          "metadata": {},
          "execution_count": 33
        }
      ]
    },
    {
      "cell_type": "code",
      "source": [
        "diffSquared_obs = np.square(band_arr_obs)\n",
        "np.sqrt(np.nanmean(diffSquared_obs))"
      ],
      "metadata": {
        "colab": {
          "base_uri": "https://localhost:8080/"
        },
        "id": "atWTlXGchnq4",
        "outputId": "6c605402-855f-4209-9ce6-12d55d335a76"
      },
      "execution_count": null,
      "outputs": [
        {
          "output_type": "execute_result",
          "data": {
            "text/plain": [
              "16.877321"
            ]
          },
          "metadata": {},
          "execution_count": 34
        }
      ]
    }
  ]
}