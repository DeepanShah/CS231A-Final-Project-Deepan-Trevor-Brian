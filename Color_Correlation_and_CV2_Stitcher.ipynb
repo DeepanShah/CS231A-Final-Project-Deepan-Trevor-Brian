{
  "cells": [
    {
      "cell_type": "markdown",
      "source": [
        "# Mount Google Drive"
      ],
      "metadata": {
        "id": "O7Bg6hOM0xA2"
      }
    },
    {
      "cell_type": "code",
      "execution_count": 1,
      "metadata": {
        "colab": {
          "base_uri": "https://localhost:8080/"
        },
        "id": "drgHA0TMP2zu",
        "outputId": "1d43bb03-5f6e-4896-a255-2f3e0783f5f4"
      },
      "outputs": [
        {
          "output_type": "stream",
          "name": "stdout",
          "text": [
            "Mounted at /content/drive\n",
            "/content/drive/.shortcut-targets-by-id/1acc0dxL8zmvnkWZkFe4Jc2ZwTrQVcGjt/CS 231A Project\n",
            "Files in this folder:\n",
            " \u001b[0m\u001b[01;34m100_0021\u001b[0m/\n",
            " \u001b[01;34m100_0022\u001b[0m/\n",
            " ActualErrorEstimation.ipynb\n",
            "\u001b[01;34m'Agisoft DEMS & Orthomosaics'\u001b[0m/\n",
            " \u001b[01;34mall_obsidian\u001b[0m/\n",
            " base_photo.jpg\n",
            "\u001b[01;34m'Courtright Orthos'\u001b[0m/\n",
            "'Courtright Topo Diff (Agi-ODM).tif'\n",
            " CourtrightTopoDiffFixed.tif\n",
            "'CS 231A Project Outline.gdoc'\n",
            " dsm_Courtright.tif\n",
            "\u001b[01;34m'error photos'\u001b[0m/\n",
            "'Final Project Report.gdoc'\n",
            "'Final Project Task List.gdoc'\n",
            "'Ground Truth Analysis.gsheet'\n",
            "'ground-truth-boulders-courtright-reservoir (1).zip'\n",
            "'Milestone Report.gdoc'\n",
            "'Notes on Using Agisoft.gdoc'\n",
            "\u001b[01;34m'Ob Orthos'\u001b[0m/\n",
            "'Obsidian Dorm DEM Diff (Agi-odm).tif'\n",
            "\u001b[01;34m'ODM Courtright TIFS'\u001b[0m/\n",
            " odm_dsm_obsidian.tif\n",
            " odm_orthophoto_obsidian.tif\n",
            "\u001b[01;34m'Original Image Data'\u001b[0m/\n",
            "'Project Milestone Report.gdoc'\n",
            "'Project Proposal.gdoc'\n",
            "'Project Proposal Ideas.gdoc'\n",
            "\u001b[01;34m'Reading Notes'\u001b[0m/\n",
            "'Research on Technical Details of Agisoft and WebODM.gdoc'\n",
            "\u001b[01;34m'Stitched Images'\u001b[0m/\n",
            " TopoDiffCourtright.tif\n",
            " TopoDiffObsidian.tif\n",
            "'Traced Boulders.zip'\n"
          ]
        }
      ],
      "source": [
        "from google.colab import drive\n",
        "\n",
        "drive.mount('/content/drive', force_remount=True)\n",
        "\n",
        "# Enter the foldername in your Drive where you have saved the unzipped\n",
        "# '.py' files from the p1 folder\n",
        "# e.g. 'cs231a/pset3/p1'\n",
        "FOLDERNAME = '/content/drive/MyDrive/CS 231A Project'\n",
        "\n",
        "assert FOLDERNAME is not None, \"/content/drive/MyDrive/CS 231A Project\"\n",
        "\n",
        "%cd $FOLDERNAME\n",
        "print('Files in this folder:')\n",
        "%ls ."
      ]
    },
    {
      "cell_type": "markdown",
      "source": [
        "# COLOR CORRELATION SCORES"
      ],
      "metadata": {
        "id": "xttjnE8U005m"
      }
    },
    {
      "cell_type": "markdown",
      "source": [
        "## RGB"
      ],
      "metadata": {
        "id": "DGjRV5as2LSv"
      }
    },
    {
      "cell_type": "code",
      "source": [
        "import os\n",
        "os.environ[\"OPENCV_IO_MAX_IMAGE_PIXELS\"] = pow(2,40).__str__()\n",
        "import cv2\n",
        "import numpy as np\n",
        "from google.colab.patches import cv2_imshow\n",
        "\n",
        "# SOURCES:\n",
        "# https://docs.opencv.org/3.4/d8/dc8/tutorial_histogram_comparison.html \n",
        "# https://pyimagesearch.com/2014/07/14/3-ways-compare-histograms-using-opencv-python/ \n",
        "# COLOR CORRELATION SCORE RGB \n",
        "\n",
        "odm = cv2.imread(\"Ob Orthos/odm_orthophoto_ob.jpg\") \n",
        "agisoft = cv2.imread(\"Ob Orthos/agisoft_ob_ortho.jpg\") \n",
        "#Courtright Orthos/agisoft_courtright_ortho.jpg\")\n",
        "\n",
        "#Courtright Orthos/odm_orthophoto_Courtright.jpg\")\n",
        "#base = cv2.imread(\"\") #base_photo.jpg\")\n",
        "\n",
        "agisoft_hsv = cv2.cvtColor(agisoft, cv2.COLOR_BGR2RGB)\n",
        "odm_hsv = cv2.cvtColor(odm, cv2.COLOR_BGR2RGB)\n",
        "#base_hsv = cv2.cvtColor(base, cv2.COLOR_BGR2RGB)\n",
        "\n",
        "histSize = [256, 256, 256]\n",
        "ranges = [0,256,0,256,0,256]\n",
        "channels = [0, 1, 2]\n",
        "\n",
        "hist_agisoft = cv2.calcHist([agisoft_hsv], channels, None, histSize, ranges, accumulate=False)\n",
        "cv2.normalize(hist_agisoft, hist_agisoft, alpha=0, beta=1, norm_type=cv2.NORM_MINMAX)\n",
        "\n",
        "hist_odm = cv2.calcHist([odm_hsv], channels, None, histSize, ranges, accumulate=False)\n",
        "cv2.normalize(hist_odm, hist_odm, alpha=0, beta=1, norm_type=cv2.NORM_MINMAX)\n",
        "\n",
        "#hist_base = cv2.calcHist([base_hsv], channels, None, histSize, ranges, accumulate=False)\n",
        "#cv2.normalize(hist_base, hist_base, alpha=0, beta=1, norm_type=cv2.NORM_MINMAX)\n",
        "\n",
        "agisoft_odm = cv2.compareHist(hist_agisoft, hist_odm, method=0)\n",
        "#agisoft_base = cv2.compareHist(hist_agisoft, hist_base, method=0)\n",
        "#odm_base = cv2.compareHist(hist_odm, hist_base, method=0)\n",
        "#court_agisoft = cv2.compareHist(hist_court, hist_agisoft, method=0)\n",
        "#court_odm = cv2.compareHist(hist_court, hist_odm, method=0)\n",
        "\n",
        "print(\"Agisoft_ODM: \", agisoft_odm)\n",
        "# print(\"Agisoft_Base: \", agisoft_base)\n",
        "# print(\"ODM_Base: \", odm_base)"
      ],
      "metadata": {
        "id": "P_07Rt0t11eK"
      },
      "execution_count": null,
      "outputs": []
    },
    {
      "cell_type": "markdown",
      "source": [
        "## R & G & B"
      ],
      "metadata": {
        "id": "ZcPY9-Yn2PNK"
      }
    },
    {
      "cell_type": "code",
      "source": [
        "histSize = [256]\n",
        "ranges = [0,256]\n",
        "channels = [0]\n",
        "\n",
        "hist_agisoft = cv2.calcHist([agisoft_hsv], channels, None, histSize, ranges, accumulate=False)\n",
        "cv2.normalize(hist_agisoft, hist_agisoft, alpha=0, beta=1, norm_type=cv2.NORM_MINMAX)\n",
        "\n",
        "hist_odm = cv2.calcHist([odm_hsv], channels, None, histSize, ranges, accumulate=False)\n",
        "cv2.normalize(hist_odm, hist_odm, alpha=0, beta=1, norm_type=cv2.NORM_MINMAX)\n",
        "\n",
        "#hist_base = cv2.calcHist([base_hsv], channels, None, histSize, ranges, accumulate=False)\n",
        "#cv2.normalize(hist_base, hist_base, alpha=0, beta=1, norm_type=cv2.NORM_MINMAX)\n",
        "\n",
        "agisoft_odm = cv2.compareHist(hist_agisoft, hist_odm, method=0)\n",
        "\n",
        "print(\"Agisoft_ODM_R: \", agisoft_odm)\n",
        "\n",
        "channels = [1]\n",
        "\n",
        "hist_agisoft = cv2.calcHist([agisoft_hsv], channels, None, histSize, ranges, accumulate=False)\n",
        "cv2.normalize(hist_agisoft, hist_agisoft, alpha=0, beta=1, norm_type=cv2.NORM_MINMAX)\n",
        "\n",
        "hist_odm = cv2.calcHist([odm_hsv], channels, None, histSize, ranges, accumulate=False)\n",
        "cv2.normalize(hist_odm, hist_odm, alpha=0, beta=1, norm_type=cv2.NORM_MINMAX)\n",
        "\n",
        "#hist_base = cv2.calcHist([base_hsv], channels, None, histSize, ranges, accumulate=False)\n",
        "#cv2.normalize(hist_base, hist_base, alpha=0, beta=1, norm_type=cv2.NORM_MINMAX)\n",
        "\n",
        "agisoft_odm = cv2.compareHist(hist_agisoft, hist_odm, method=0)\n",
        "\n",
        "print(\"Agisoft_ODM_G: \", agisoft_odm)\n",
        "\n",
        "channels = [2]\n",
        "\n",
        "hist_agisoft = cv2.calcHist([agisoft_hsv], channels, None, histSize, ranges, accumulate=False)\n",
        "cv2.normalize(hist_agisoft, hist_agisoft, alpha=0, beta=1, norm_type=cv2.NORM_MINMAX)\n",
        "\n",
        "hist_odm = cv2.calcHist([odm_hsv], channels, None, histSize, ranges, accumulate=False)\n",
        "cv2.normalize(hist_odm, hist_odm, alpha=0, beta=1, norm_type=cv2.NORM_MINMAX)\n",
        "\n",
        "#hist_base = cv2.calcHist([base_hsv], channels, None, histSize, ranges, accumulate=False)\n",
        "#cv2.normalize(hist_base, hist_base, alpha=0, beta=1, norm_type=cv2.NORM_MINMAX)\n",
        "\n",
        "agisoft_odm = cv2.compareHist(hist_agisoft, hist_odm, method=0)\n",
        "\n",
        "print(\"Agisoft_ODM_B: \", agisoft_odm)"
      ],
      "metadata": {
        "colab": {
          "base_uri": "https://localhost:8080/"
        },
        "id": "e9ErdrLo_Pvb",
        "outputId": "9feb6ee8-5274-47ed-eec1-4f3ef1d9534a"
      },
      "execution_count": null,
      "outputs": [
        {
          "output_type": "stream",
          "name": "stdout",
          "text": [
            "Agisoft_ODM_R:  0.9998799698448125\n",
            "Agisoft_ODM_G:  0.9998913670625427\n",
            "Agisoft_ODM_B:  0.9999399645497123\n"
          ]
        }
      ]
    },
    {
      "cell_type": "markdown",
      "source": [
        "# COURTRIGHT BASE STITCHER"
      ],
      "metadata": {
        "id": "U-I3huty3GDg"
      }
    },
    {
      "cell_type": "code",
      "execution_count": null,
      "metadata": {
        "id": "eUCVMBzs0QAm",
        "colab": {
          "base_uri": "https://localhost:8080/"
        },
        "outputId": "e1c32f66-0d01-4802-e1de-fc23e087b309"
      },
      "outputs": [
        {
          "output_type": "stream",
          "name": "stdout",
          "text": [
            "Parsing images...\n",
            "['/content/drive/.shortcut-targets-by-id/1acc0dxL8zmvnkWZkFe4Jc2ZwTrQVcGjt/CS 231A Project/100_0022/100_0022_0020.JPG', '/content/drive/.shortcut-targets-by-id/1acc0dxL8zmvnkWZkFe4Jc2ZwTrQVcGjt/CS 231A Project/100_0022/100_0022_0004.JPG', '/content/drive/.shortcut-targets-by-id/1acc0dxL8zmvnkWZkFe4Jc2ZwTrQVcGjt/CS 231A Project/100_0022/100_0022_0014.JPG', '/content/drive/.shortcut-targets-by-id/1acc0dxL8zmvnkWZkFe4Jc2ZwTrQVcGjt/CS 231A Project/100_0022/100_0022_0012.JPG', '/content/drive/.shortcut-targets-by-id/1acc0dxL8zmvnkWZkFe4Jc2ZwTrQVcGjt/CS 231A Project/100_0022/100_0022_0021.JPG', '/content/drive/.shortcut-targets-by-id/1acc0dxL8zmvnkWZkFe4Jc2ZwTrQVcGjt/CS 231A Project/100_0022/100_0022_0002.JPG', '/content/drive/.shortcut-targets-by-id/1acc0dxL8zmvnkWZkFe4Jc2ZwTrQVcGjt/CS 231A Project/100_0022/100_0022_0010.JPG', '/content/drive/.shortcut-targets-by-id/1acc0dxL8zmvnkWZkFe4Jc2ZwTrQVcGjt/CS 231A Project/100_0022/100_0022_0003.JPG', '/content/drive/.shortcut-targets-by-id/1acc0dxL8zmvnkWZkFe4Jc2ZwTrQVcGjt/CS 231A Project/100_0022/100_0022_0005.JPG', '/content/drive/.shortcut-targets-by-id/1acc0dxL8zmvnkWZkFe4Jc2ZwTrQVcGjt/CS 231A Project/100_0022/100_0022_0001.JPG', '/content/drive/.shortcut-targets-by-id/1acc0dxL8zmvnkWZkFe4Jc2ZwTrQVcGjt/CS 231A Project/100_0022/100_0022_0016.JPG', '/content/drive/.shortcut-targets-by-id/1acc0dxL8zmvnkWZkFe4Jc2ZwTrQVcGjt/CS 231A Project/100_0022/100_0022_0024.JPG', '/content/drive/.shortcut-targets-by-id/1acc0dxL8zmvnkWZkFe4Jc2ZwTrQVcGjt/CS 231A Project/100_0022/100_0022_0017.JPG', '/content/drive/.shortcut-targets-by-id/1acc0dxL8zmvnkWZkFe4Jc2ZwTrQVcGjt/CS 231A Project/100_0022/100_0022_0011.JPG', '/content/drive/.shortcut-targets-by-id/1acc0dxL8zmvnkWZkFe4Jc2ZwTrQVcGjt/CS 231A Project/100_0022/100_0022_0007.JPG', '/content/drive/.shortcut-targets-by-id/1acc0dxL8zmvnkWZkFe4Jc2ZwTrQVcGjt/CS 231A Project/100_0022/100_0022_0008.JPG', '/content/drive/.shortcut-targets-by-id/1acc0dxL8zmvnkWZkFe4Jc2ZwTrQVcGjt/CS 231A Project/100_0022/100_0022_0018.JPG', '/content/drive/.shortcut-targets-by-id/1acc0dxL8zmvnkWZkFe4Jc2ZwTrQVcGjt/CS 231A Project/100_0022/100_0022_0009.JPG', '/content/drive/.shortcut-targets-by-id/1acc0dxL8zmvnkWZkFe4Jc2ZwTrQVcGjt/CS 231A Project/100_0022/100_0022_0023.JPG', '/content/drive/.shortcut-targets-by-id/1acc0dxL8zmvnkWZkFe4Jc2ZwTrQVcGjt/CS 231A Project/100_0022/100_0022_0022.JPG', '/content/drive/.shortcut-targets-by-id/1acc0dxL8zmvnkWZkFe4Jc2ZwTrQVcGjt/CS 231A Project/100_0022/100_0022_0019.JPG', '/content/drive/.shortcut-targets-by-id/1acc0dxL8zmvnkWZkFe4Jc2ZwTrQVcGjt/CS 231A Project/100_0022/100_0022_0015.JPG', '/content/drive/.shortcut-targets-by-id/1acc0dxL8zmvnkWZkFe4Jc2ZwTrQVcGjt/CS 231A Project/100_0022/100_0022_0006.JPG', '/content/drive/.shortcut-targets-by-id/1acc0dxL8zmvnkWZkFe4Jc2ZwTrQVcGjt/CS 231A Project/100_0022/100_0022_0013.JPG', '/content/drive/.shortcut-targets-by-id/1acc0dxL8zmvnkWZkFe4Jc2ZwTrQVcGjt/CS 231A Project/100_0022/100_0022_0036.JPG', '/content/drive/.shortcut-targets-by-id/1acc0dxL8zmvnkWZkFe4Jc2ZwTrQVcGjt/CS 231A Project/100_0022/100_0022_0041.JPG', '/content/drive/.shortcut-targets-by-id/1acc0dxL8zmvnkWZkFe4Jc2ZwTrQVcGjt/CS 231A Project/100_0022/100_0022_0042.JPG', '/content/drive/.shortcut-targets-by-id/1acc0dxL8zmvnkWZkFe4Jc2ZwTrQVcGjt/CS 231A Project/100_0022/100_0022_0040.JPG', '/content/drive/.shortcut-targets-by-id/1acc0dxL8zmvnkWZkFe4Jc2ZwTrQVcGjt/CS 231A Project/100_0022/100_0022_0057.JPG', '/content/drive/.shortcut-targets-by-id/1acc0dxL8zmvnkWZkFe4Jc2ZwTrQVcGjt/CS 231A Project/100_0022/100_0022_0044.JPG', '/content/drive/.shortcut-targets-by-id/1acc0dxL8zmvnkWZkFe4Jc2ZwTrQVcGjt/CS 231A Project/100_0022/100_0022_0058.JPG', '/content/drive/.shortcut-targets-by-id/1acc0dxL8zmvnkWZkFe4Jc2ZwTrQVcGjt/CS 231A Project/100_0022/100_0022_0055.JPG', '/content/drive/.shortcut-targets-by-id/1acc0dxL8zmvnkWZkFe4Jc2ZwTrQVcGjt/CS 231A Project/100_0022/100_0022_0052.JPG', '/content/drive/.shortcut-targets-by-id/1acc0dxL8zmvnkWZkFe4Jc2ZwTrQVcGjt/CS 231A Project/100_0022/100_0022_0050.JPG', '/content/drive/.shortcut-targets-by-id/1acc0dxL8zmvnkWZkFe4Jc2ZwTrQVcGjt/CS 231A Project/100_0022/100_0022_0047.JPG', '/content/drive/.shortcut-targets-by-id/1acc0dxL8zmvnkWZkFe4Jc2ZwTrQVcGjt/CS 231A Project/100_0022/100_0022_0045.JPG', '/content/drive/.shortcut-targets-by-id/1acc0dxL8zmvnkWZkFe4Jc2ZwTrQVcGjt/CS 231A Project/100_0022/100_0022_0048.JPG', '/content/drive/.shortcut-targets-by-id/1acc0dxL8zmvnkWZkFe4Jc2ZwTrQVcGjt/CS 231A Project/100_0022/100_0022_0025.JPG', '/content/drive/.shortcut-targets-by-id/1acc0dxL8zmvnkWZkFe4Jc2ZwTrQVcGjt/CS 231A Project/100_0022/100_0022_0029.JPG', '/content/drive/.shortcut-targets-by-id/1acc0dxL8zmvnkWZkFe4Jc2ZwTrQVcGjt/CS 231A Project/100_0022/100_0022_0034.JPG', '/content/drive/.shortcut-targets-by-id/1acc0dxL8zmvnkWZkFe4Jc2ZwTrQVcGjt/CS 231A Project/100_0022/100_0022_0046.JPG', '/content/drive/.shortcut-targets-by-id/1acc0dxL8zmvnkWZkFe4Jc2ZwTrQVcGjt/CS 231A Project/100_0022/100_0022_0035.JPG', '/content/drive/.shortcut-targets-by-id/1acc0dxL8zmvnkWZkFe4Jc2ZwTrQVcGjt/CS 231A Project/100_0022/100_0022_0027.JPG', '/content/drive/.shortcut-targets-by-id/1acc0dxL8zmvnkWZkFe4Jc2ZwTrQVcGjt/CS 231A Project/100_0022/100_0022_0051.JPG', '/content/drive/.shortcut-targets-by-id/1acc0dxL8zmvnkWZkFe4Jc2ZwTrQVcGjt/CS 231A Project/100_0022/100_0022_0038.JPG', '/content/drive/.shortcut-targets-by-id/1acc0dxL8zmvnkWZkFe4Jc2ZwTrQVcGjt/CS 231A Project/100_0022/100_0022_0056.JPG', '/content/drive/.shortcut-targets-by-id/1acc0dxL8zmvnkWZkFe4Jc2ZwTrQVcGjt/CS 231A Project/100_0022/100_0022_0033.JPG', '/content/drive/.shortcut-targets-by-id/1acc0dxL8zmvnkWZkFe4Jc2ZwTrQVcGjt/CS 231A Project/100_0022/100_0022_0037.JPG', '/content/drive/.shortcut-targets-by-id/1acc0dxL8zmvnkWZkFe4Jc2ZwTrQVcGjt/CS 231A Project/100_0022/100_0022_0032.JPG', '/content/drive/.shortcut-targets-by-id/1acc0dxL8zmvnkWZkFe4Jc2ZwTrQVcGjt/CS 231A Project/100_0022/100_0022_0026.JPG', '/content/drive/.shortcut-targets-by-id/1acc0dxL8zmvnkWZkFe4Jc2ZwTrQVcGjt/CS 231A Project/100_0022/100_0022_0030.JPG', '/content/drive/.shortcut-targets-by-id/1acc0dxL8zmvnkWZkFe4Jc2ZwTrQVcGjt/CS 231A Project/100_0022/100_0022_0039.JPG', '/content/drive/.shortcut-targets-by-id/1acc0dxL8zmvnkWZkFe4Jc2ZwTrQVcGjt/CS 231A Project/100_0022/100_0022_0043.JPG', '/content/drive/.shortcut-targets-by-id/1acc0dxL8zmvnkWZkFe4Jc2ZwTrQVcGjt/CS 231A Project/100_0022/100_0022_0028.JPG', '/content/drive/.shortcut-targets-by-id/1acc0dxL8zmvnkWZkFe4Jc2ZwTrQVcGjt/CS 231A Project/100_0022/100_0022_0053.JPG', '/content/drive/.shortcut-targets-by-id/1acc0dxL8zmvnkWZkFe4Jc2ZwTrQVcGjt/CS 231A Project/100_0022/100_0022_0054.JPG', '/content/drive/.shortcut-targets-by-id/1acc0dxL8zmvnkWZkFe4Jc2ZwTrQVcGjt/CS 231A Project/100_0022/100_0022_0031.JPG', '/content/drive/.shortcut-targets-by-id/1acc0dxL8zmvnkWZkFe4Jc2ZwTrQVcGjt/CS 231A Project/100_0022/100_0022_0049.JPG', '/content/drive/.shortcut-targets-by-id/1acc0dxL8zmvnkWZkFe4Jc2ZwTrQVcGjt/CS 231A Project/100_0022/100_0022_0072.JPG', '/content/drive/.shortcut-targets-by-id/1acc0dxL8zmvnkWZkFe4Jc2ZwTrQVcGjt/CS 231A Project/100_0022/100_0022_0091.JPG', '/content/drive/.shortcut-targets-by-id/1acc0dxL8zmvnkWZkFe4Jc2ZwTrQVcGjt/CS 231A Project/100_0022/100_0022_0077.JPG', '/content/drive/.shortcut-targets-by-id/1acc0dxL8zmvnkWZkFe4Jc2ZwTrQVcGjt/CS 231A Project/100_0022/100_0022_0090.JPG', '/content/drive/.shortcut-targets-by-id/1acc0dxL8zmvnkWZkFe4Jc2ZwTrQVcGjt/CS 231A Project/100_0022/100_0022_0083.JPG', '/content/drive/.shortcut-targets-by-id/1acc0dxL8zmvnkWZkFe4Jc2ZwTrQVcGjt/CS 231A Project/100_0022/100_0022_0064.JPG', '/content/drive/.shortcut-targets-by-id/1acc0dxL8zmvnkWZkFe4Jc2ZwTrQVcGjt/CS 231A Project/100_0022/100_0022_0065.JPG', '/content/drive/.shortcut-targets-by-id/1acc0dxL8zmvnkWZkFe4Jc2ZwTrQVcGjt/CS 231A Project/100_0022/100_0022_0067.JPG', '/content/drive/.shortcut-targets-by-id/1acc0dxL8zmvnkWZkFe4Jc2ZwTrQVcGjt/CS 231A Project/100_0022/100_0022_0079.JPG', '/content/drive/.shortcut-targets-by-id/1acc0dxL8zmvnkWZkFe4Jc2ZwTrQVcGjt/CS 231A Project/100_0022/100_0022_0089.JPG', '/content/drive/.shortcut-targets-by-id/1acc0dxL8zmvnkWZkFe4Jc2ZwTrQVcGjt/CS 231A Project/100_0022/100_0022_0087.JPG', '/content/drive/.shortcut-targets-by-id/1acc0dxL8zmvnkWZkFe4Jc2ZwTrQVcGjt/CS 231A Project/100_0022/100_0022_0061.JPG', '/content/drive/.shortcut-targets-by-id/1acc0dxL8zmvnkWZkFe4Jc2ZwTrQVcGjt/CS 231A Project/100_0022/100_0022_0068.JPG', '/content/drive/.shortcut-targets-by-id/1acc0dxL8zmvnkWZkFe4Jc2ZwTrQVcGjt/CS 231A Project/100_0022/100_0022_0060.JPG', '/content/drive/.shortcut-targets-by-id/1acc0dxL8zmvnkWZkFe4Jc2ZwTrQVcGjt/CS 231A Project/100_0022/100_0022_0074.JPG', '/content/drive/.shortcut-targets-by-id/1acc0dxL8zmvnkWZkFe4Jc2ZwTrQVcGjt/CS 231A Project/100_0022/100_0022_0086.JPG', '/content/drive/.shortcut-targets-by-id/1acc0dxL8zmvnkWZkFe4Jc2ZwTrQVcGjt/CS 231A Project/100_0022/100_0022_0073.JPG', '/content/drive/.shortcut-targets-by-id/1acc0dxL8zmvnkWZkFe4Jc2ZwTrQVcGjt/CS 231A Project/100_0022/100_0022_0078.JPG', '/content/drive/.shortcut-targets-by-id/1acc0dxL8zmvnkWZkFe4Jc2ZwTrQVcGjt/CS 231A Project/100_0022/100_0022_0062.JPG', '/content/drive/.shortcut-targets-by-id/1acc0dxL8zmvnkWZkFe4Jc2ZwTrQVcGjt/CS 231A Project/100_0022/100_0022_0080.JPG', '/content/drive/.shortcut-targets-by-id/1acc0dxL8zmvnkWZkFe4Jc2ZwTrQVcGjt/CS 231A Project/100_0022/100_0022_0069.JPG', '/content/drive/.shortcut-targets-by-id/1acc0dxL8zmvnkWZkFe4Jc2ZwTrQVcGjt/CS 231A Project/100_0022/100_0022_0081.JPG', '/content/drive/.shortcut-targets-by-id/1acc0dxL8zmvnkWZkFe4Jc2ZwTrQVcGjt/CS 231A Project/100_0022/100_0022_0059.JPG', '/content/drive/.shortcut-targets-by-id/1acc0dxL8zmvnkWZkFe4Jc2ZwTrQVcGjt/CS 231A Project/100_0022/100_0022_0071.JPG', '/content/drive/.shortcut-targets-by-id/1acc0dxL8zmvnkWZkFe4Jc2ZwTrQVcGjt/CS 231A Project/100_0022/100_0022_0085.JPG', '/content/drive/.shortcut-targets-by-id/1acc0dxL8zmvnkWZkFe4Jc2ZwTrQVcGjt/CS 231A Project/100_0022/100_0022_0084.JPG', '/content/drive/.shortcut-targets-by-id/1acc0dxL8zmvnkWZkFe4Jc2ZwTrQVcGjt/CS 231A Project/100_0022/100_0022_0066.JPG', '/content/drive/.shortcut-targets-by-id/1acc0dxL8zmvnkWZkFe4Jc2ZwTrQVcGjt/CS 231A Project/100_0022/100_0022_0075.JPG', '/content/drive/.shortcut-targets-by-id/1acc0dxL8zmvnkWZkFe4Jc2ZwTrQVcGjt/CS 231A Project/100_0022/100_0022_0070.JPG', '/content/drive/.shortcut-targets-by-id/1acc0dxL8zmvnkWZkFe4Jc2ZwTrQVcGjt/CS 231A Project/100_0022/100_0022_0082.JPG', '/content/drive/.shortcut-targets-by-id/1acc0dxL8zmvnkWZkFe4Jc2ZwTrQVcGjt/CS 231A Project/100_0022/100_0022_0063.JPG', '/content/drive/.shortcut-targets-by-id/1acc0dxL8zmvnkWZkFe4Jc2ZwTrQVcGjt/CS 231A Project/100_0022/100_0022_0088.JPG', '/content/drive/.shortcut-targets-by-id/1acc0dxL8zmvnkWZkFe4Jc2ZwTrQVcGjt/CS 231A Project/100_0022/100_0022_0076.JPG', '/content/drive/.shortcut-targets-by-id/1acc0dxL8zmvnkWZkFe4Jc2ZwTrQVcGjt/CS 231A Project/100_0022/100_0022_0110.JPG', '/content/drive/.shortcut-targets-by-id/1acc0dxL8zmvnkWZkFe4Jc2ZwTrQVcGjt/CS 231A Project/100_0022/100_0022_0122.JPG', '/content/drive/.shortcut-targets-by-id/1acc0dxL8zmvnkWZkFe4Jc2ZwTrQVcGjt/CS 231A Project/100_0022/100_0022_0106.JPG', '/content/drive/.shortcut-targets-by-id/1acc0dxL8zmvnkWZkFe4Jc2ZwTrQVcGjt/CS 231A Project/100_0022/100_0022_0117.JPG', '/content/drive/.shortcut-targets-by-id/1acc0dxL8zmvnkWZkFe4Jc2ZwTrQVcGjt/CS 231A Project/100_0022/100_0022_0099.JPG', '/content/drive/.shortcut-targets-by-id/1acc0dxL8zmvnkWZkFe4Jc2ZwTrQVcGjt/CS 231A Project/100_0022/100_0022_0093.JPG', '/content/drive/.shortcut-targets-by-id/1acc0dxL8zmvnkWZkFe4Jc2ZwTrQVcGjt/CS 231A Project/100_0022/100_0022_0096.JPG', '/content/drive/.shortcut-targets-by-id/1acc0dxL8zmvnkWZkFe4Jc2ZwTrQVcGjt/CS 231A Project/100_0022/100_0022_0112.JPG', '/content/drive/.shortcut-targets-by-id/1acc0dxL8zmvnkWZkFe4Jc2ZwTrQVcGjt/CS 231A Project/100_0022/100_0022_0115.JPG', '/content/drive/.shortcut-targets-by-id/1acc0dxL8zmvnkWZkFe4Jc2ZwTrQVcGjt/CS 231A Project/100_0022/100_0022_0101.JPG', '/content/drive/.shortcut-targets-by-id/1acc0dxL8zmvnkWZkFe4Jc2ZwTrQVcGjt/CS 231A Project/100_0022/100_0022_0121.JPG', '/content/drive/.shortcut-targets-by-id/1acc0dxL8zmvnkWZkFe4Jc2ZwTrQVcGjt/CS 231A Project/100_0022/100_0022_0118.JPG', '/content/drive/.shortcut-targets-by-id/1acc0dxL8zmvnkWZkFe4Jc2ZwTrQVcGjt/CS 231A Project/100_0022/100_0022_0107.JPG', '/content/drive/.shortcut-targets-by-id/1acc0dxL8zmvnkWZkFe4Jc2ZwTrQVcGjt/CS 231A Project/100_0022/100_0022_0102.JPG', '/content/drive/.shortcut-targets-by-id/1acc0dxL8zmvnkWZkFe4Jc2ZwTrQVcGjt/CS 231A Project/100_0022/100_0022_0124.JPG', '/content/drive/.shortcut-targets-by-id/1acc0dxL8zmvnkWZkFe4Jc2ZwTrQVcGjt/CS 231A Project/100_0022/100_0022_0111.JPG', '/content/drive/.shortcut-targets-by-id/1acc0dxL8zmvnkWZkFe4Jc2ZwTrQVcGjt/CS 231A Project/100_0022/100_0022_0120.JPG', '/content/drive/.shortcut-targets-by-id/1acc0dxL8zmvnkWZkFe4Jc2ZwTrQVcGjt/CS 231A Project/100_0022/100_0022_0104.JPG', '/content/drive/.shortcut-targets-by-id/1acc0dxL8zmvnkWZkFe4Jc2ZwTrQVcGjt/CS 231A Project/100_0022/100_0022_0094.JPG', '/content/drive/.shortcut-targets-by-id/1acc0dxL8zmvnkWZkFe4Jc2ZwTrQVcGjt/CS 231A Project/100_0022/100_0022_0103.JPG', '/content/drive/.shortcut-targets-by-id/1acc0dxL8zmvnkWZkFe4Jc2ZwTrQVcGjt/CS 231A Project/100_0022/100_0022_0123.JPG', '/content/drive/.shortcut-targets-by-id/1acc0dxL8zmvnkWZkFe4Jc2ZwTrQVcGjt/CS 231A Project/100_0022/100_0022_0100.JPG', '/content/drive/.shortcut-targets-by-id/1acc0dxL8zmvnkWZkFe4Jc2ZwTrQVcGjt/CS 231A Project/100_0022/100_0022_0095.JPG', '/content/drive/.shortcut-targets-by-id/1acc0dxL8zmvnkWZkFe4Jc2ZwTrQVcGjt/CS 231A Project/100_0022/100_0022_0116.JPG', '/content/drive/.shortcut-targets-by-id/1acc0dxL8zmvnkWZkFe4Jc2ZwTrQVcGjt/CS 231A Project/100_0022/100_0022_0105.JPG', '/content/drive/.shortcut-targets-by-id/1acc0dxL8zmvnkWZkFe4Jc2ZwTrQVcGjt/CS 231A Project/100_0022/100_0022_0092.JPG', '/content/drive/.shortcut-targets-by-id/1acc0dxL8zmvnkWZkFe4Jc2ZwTrQVcGjt/CS 231A Project/100_0022/100_0022_0114.JPG', '/content/drive/.shortcut-targets-by-id/1acc0dxL8zmvnkWZkFe4Jc2ZwTrQVcGjt/CS 231A Project/100_0022/100_0022_0119.JPG', '/content/drive/.shortcut-targets-by-id/1acc0dxL8zmvnkWZkFe4Jc2ZwTrQVcGjt/CS 231A Project/100_0022/100_0022_0113.JPG', '/content/drive/.shortcut-targets-by-id/1acc0dxL8zmvnkWZkFe4Jc2ZwTrQVcGjt/CS 231A Project/100_0022/100_0022_0098.JPG', '/content/drive/.shortcut-targets-by-id/1acc0dxL8zmvnkWZkFe4Jc2ZwTrQVcGjt/CS 231A Project/100_0022/100_0022_0125.JPG', '/content/drive/.shortcut-targets-by-id/1acc0dxL8zmvnkWZkFe4Jc2ZwTrQVcGjt/CS 231A Project/100_0022/100_0022_0097.JPG', '/content/drive/.shortcut-targets-by-id/1acc0dxL8zmvnkWZkFe4Jc2ZwTrQVcGjt/CS 231A Project/100_0022/100_0022_0109.JPG', '/content/drive/.shortcut-targets-by-id/1acc0dxL8zmvnkWZkFe4Jc2ZwTrQVcGjt/CS 231A Project/100_0022/100_0022_0108.JPG', '/content/drive/.shortcut-targets-by-id/1acc0dxL8zmvnkWZkFe4Jc2ZwTrQVcGjt/CS 231A Project/100_0022/100_0022_0154.JPG', '/content/drive/.shortcut-targets-by-id/1acc0dxL8zmvnkWZkFe4Jc2ZwTrQVcGjt/CS 231A Project/100_0022/100_0022_0144.JPG', '/content/drive/.shortcut-targets-by-id/1acc0dxL8zmvnkWZkFe4Jc2ZwTrQVcGjt/CS 231A Project/100_0022/100_0022_0150.JPG', '/content/drive/.shortcut-targets-by-id/1acc0dxL8zmvnkWZkFe4Jc2ZwTrQVcGjt/CS 231A Project/100_0022/100_0022_0126.JPG', '/content/drive/.shortcut-targets-by-id/1acc0dxL8zmvnkWZkFe4Jc2ZwTrQVcGjt/CS 231A Project/100_0022/100_0022_0131.JPG', '/content/drive/.shortcut-targets-by-id/1acc0dxL8zmvnkWZkFe4Jc2ZwTrQVcGjt/CS 231A Project/100_0022/100_0022_0151.JPG', '/content/drive/.shortcut-targets-by-id/1acc0dxL8zmvnkWZkFe4Jc2ZwTrQVcGjt/CS 231A Project/100_0022/100_0022_0138.JPG', '/content/drive/.shortcut-targets-by-id/1acc0dxL8zmvnkWZkFe4Jc2ZwTrQVcGjt/CS 231A Project/100_0022/100_0022_0142.JPG', '/content/drive/.shortcut-targets-by-id/1acc0dxL8zmvnkWZkFe4Jc2ZwTrQVcGjt/CS 231A Project/100_0022/100_0022_0143.JPG', '/content/drive/.shortcut-targets-by-id/1acc0dxL8zmvnkWZkFe4Jc2ZwTrQVcGjt/CS 231A Project/100_0022/100_0022_0147.JPG', '/content/drive/.shortcut-targets-by-id/1acc0dxL8zmvnkWZkFe4Jc2ZwTrQVcGjt/CS 231A Project/100_0022/100_0022_0128.JPG', '/content/drive/.shortcut-targets-by-id/1acc0dxL8zmvnkWZkFe4Jc2ZwTrQVcGjt/CS 231A Project/100_0022/100_0022_0135.JPG', '/content/drive/.shortcut-targets-by-id/1acc0dxL8zmvnkWZkFe4Jc2ZwTrQVcGjt/CS 231A Project/100_0022/100_0022_0146.JPG', '/content/drive/.shortcut-targets-by-id/1acc0dxL8zmvnkWZkFe4Jc2ZwTrQVcGjt/CS 231A Project/100_0022/100_0022_0137.JPG', '/content/drive/.shortcut-targets-by-id/1acc0dxL8zmvnkWZkFe4Jc2ZwTrQVcGjt/CS 231A Project/100_0022/100_0022_0134.JPG', '/content/drive/.shortcut-targets-by-id/1acc0dxL8zmvnkWZkFe4Jc2ZwTrQVcGjt/CS 231A Project/100_0022/100_0022_0158.JPG', '/content/drive/.shortcut-targets-by-id/1acc0dxL8zmvnkWZkFe4Jc2ZwTrQVcGjt/CS 231A Project/100_0022/100_0022_0149.JPG', '/content/drive/.shortcut-targets-by-id/1acc0dxL8zmvnkWZkFe4Jc2ZwTrQVcGjt/CS 231A Project/100_0022/100_0022_0153.JPG', '/content/drive/.shortcut-targets-by-id/1acc0dxL8zmvnkWZkFe4Jc2ZwTrQVcGjt/CS 231A Project/100_0022/100_0022_0145.JPG', '/content/drive/.shortcut-targets-by-id/1acc0dxL8zmvnkWZkFe4Jc2ZwTrQVcGjt/CS 231A Project/100_0022/100_0022_0133.JPG', '/content/drive/.shortcut-targets-by-id/1acc0dxL8zmvnkWZkFe4Jc2ZwTrQVcGjt/CS 231A Project/100_0022/100_0022_0129.JPG', '/content/drive/.shortcut-targets-by-id/1acc0dxL8zmvnkWZkFe4Jc2ZwTrQVcGjt/CS 231A Project/100_0022/100_0022_0152.JPG', '/content/drive/.shortcut-targets-by-id/1acc0dxL8zmvnkWZkFe4Jc2ZwTrQVcGjt/CS 231A Project/100_0022/100_0022_0156.JPG', '/content/drive/.shortcut-targets-by-id/1acc0dxL8zmvnkWZkFe4Jc2ZwTrQVcGjt/CS 231A Project/100_0022/100_0022_0157.JPG', '/content/drive/.shortcut-targets-by-id/1acc0dxL8zmvnkWZkFe4Jc2ZwTrQVcGjt/CS 231A Project/100_0022/100_0022_0148.JPG', '/content/drive/.shortcut-targets-by-id/1acc0dxL8zmvnkWZkFe4Jc2ZwTrQVcGjt/CS 231A Project/100_0022/100_0022_0140.JPG', '/content/drive/.shortcut-targets-by-id/1acc0dxL8zmvnkWZkFe4Jc2ZwTrQVcGjt/CS 231A Project/100_0022/100_0022_0132.JPG', '/content/drive/.shortcut-targets-by-id/1acc0dxL8zmvnkWZkFe4Jc2ZwTrQVcGjt/CS 231A Project/100_0022/100_0022_0127.JPG', '/content/drive/.shortcut-targets-by-id/1acc0dxL8zmvnkWZkFe4Jc2ZwTrQVcGjt/CS 231A Project/100_0022/100_0022_0159.JPG', '/content/drive/.shortcut-targets-by-id/1acc0dxL8zmvnkWZkFe4Jc2ZwTrQVcGjt/CS 231A Project/100_0022/100_0022_0139.JPG', '/content/drive/.shortcut-targets-by-id/1acc0dxL8zmvnkWZkFe4Jc2ZwTrQVcGjt/CS 231A Project/100_0022/100_0022_0141.JPG', '/content/drive/.shortcut-targets-by-id/1acc0dxL8zmvnkWZkFe4Jc2ZwTrQVcGjt/CS 231A Project/100_0022/100_0022_0130.JPG', '/content/drive/.shortcut-targets-by-id/1acc0dxL8zmvnkWZkFe4Jc2ZwTrQVcGjt/CS 231A Project/100_0022/100_0022_0136.JPG', '/content/drive/.shortcut-targets-by-id/1acc0dxL8zmvnkWZkFe4Jc2ZwTrQVcGjt/CS 231A Project/100_0022/100_0022_0155.JPG', '/content/drive/.shortcut-targets-by-id/1acc0dxL8zmvnkWZkFe4Jc2ZwTrQVcGjt/CS 231A Project/100_0022/100_0022_0162.JPG', '/content/drive/.shortcut-targets-by-id/1acc0dxL8zmvnkWZkFe4Jc2ZwTrQVcGjt/CS 231A Project/100_0022/100_0022_0165.JPG', '/content/drive/.shortcut-targets-by-id/1acc0dxL8zmvnkWZkFe4Jc2ZwTrQVcGjt/CS 231A Project/100_0022/100_0022_0164.JPG', '/content/drive/.shortcut-targets-by-id/1acc0dxL8zmvnkWZkFe4Jc2ZwTrQVcGjt/CS 231A Project/100_0022/100_0022_0160.JPG', '/content/drive/.shortcut-targets-by-id/1acc0dxL8zmvnkWZkFe4Jc2ZwTrQVcGjt/CS 231A Project/100_0022/100_0022_0163.JPG', '/content/drive/.shortcut-targets-by-id/1acc0dxL8zmvnkWZkFe4Jc2ZwTrQVcGjt/CS 231A Project/100_0022/100_0022_0161.JPG']\n"
          ]
        }
      ],
      "source": [
        "import cv2\n",
        "from google.colab.patches import cv2_imshow\n",
        "import matplotlib.pyplot as plt\n",
        "import os\n",
        "\n",
        "print(\"Parsing images...\")\n",
        "folder_path = os.getcwd() + \"/100_0022/\"\n",
        "files = []\n",
        "for filename in os.listdir(folder_path):\n",
        "    if filename.endswith('.JPG'):\n",
        "        file_path = os.path.join(folder_path, filename)\n",
        "        files.append(file_path)\n",
        "print(files)"
      ]
    },
    {
      "cell_type": "code",
      "execution_count": null,
      "metadata": {
        "id": "q_TxuRay0xwU"
      },
      "outputs": [],
      "source": [
        "files = sorted(files)"
      ]
    },
    {
      "cell_type": "code",
      "execution_count": null,
      "metadata": {
        "id": "eRgetlVU08nr",
        "colab": {
          "base_uri": "https://localhost:8080/"
        },
        "outputId": "1010dd19-81ad-474d-93b7-e211c0b489cd"
      },
      "outputs": [
        {
          "output_type": "stream",
          "name": "stderr",
          "text": [
            "100%|██████████| 165/165 [01:19<00:00,  2.08it/s]\n"
          ]
        }
      ],
      "source": [
        "from tqdm import tqdm\n",
        "\n",
        "images = []\n",
        "for i in tqdm(range(len(files))):\n",
        "    images.append(cv2.imread(files[i]))"
      ]
    },
    {
      "cell_type": "code",
      "execution_count": null,
      "metadata": {
        "colab": {
          "base_uri": "https://localhost:8080/"
        },
        "id": "vomw0eaVVSEB",
        "outputId": "7197a0e3-69ad-47ac-9a27-89469f1a45ea"
      },
      "outputs": [
        {
          "output_type": "stream",
          "name": "stdout",
          "text": [
            "Finished stitching final image; named stitched_image_final.jpg"
          ]
        }
      ],
      "source": [
        "# Image stitching for baseline orthophoto\n",
        "\n",
        "import cv2\n",
        "from google.colab.patches import cv2_imshow\n",
        "import matplotlib.pyplot as plt\n",
        "import os\n",
        "import sys\n",
        "\n",
        "\n",
        "# Set up number of iterations per for loop, look through iterations.\n",
        "NUM_ITERS = 15\n",
        "images_per_iter = [(len(images) // NUM_ITERS) * (i + 1) for i in range(NUM_ITERS)]\n",
        "if len(images) % NUM_ITERS != 0 :\n",
        "  images_per_iter[-1] += 1\n",
        "\n",
        "\n",
        "# Loop through stitching to reduce work per stitch.\n",
        "prev_index = 0\n",
        "for i, curr_index in enumerate(images_per_iter):\n",
        "  # Create stitcher:\n",
        "  mode = cv2.Stitcher_SCANS\n",
        "  stitcher = cv2.Stitcher.create(mode)\n",
        "\n",
        "  # Some printing info:\n",
        "  sys.stdout.write(f\"\\rStitching image set {i + 1} from images {prev_index + 1} to {curr_index}...\")\n",
        "\n",
        "  # Begin stitching: (If weird error comes up here (-220: Unknown Error Code -220), we are out of resources. Restart runtime!)\n",
        "  status, result = stitcher.stitch(tuple(images[prev_index: curr_index]))\n",
        "  \n",
        "  # Check status; if failure, stop.\n",
        "  if status != cv2.Stitcher_OK:\n",
        "    %tb\n",
        "    sys.exit(f\"Encountered status of {status}, required status of 0.\")\n",
        "  else:\n",
        "    cv2.imwrite(f\"stitched_image{i + 1}.jpg\", result)\n",
        "  \n",
        "  prev_index = curr_index\n",
        "\n",
        "\n",
        "sys.stdout.write(f\"\\rFinished stitching sub-images; stitching final image...\")\n",
        "\n",
        "# Now we stitch the resulting images:\n",
        "curr_dir = os.getcwd()\n",
        "resulting_images = [cv2.imread(f\"{curr_dir}/stitched_image{j + 1}.jpg\") for j in range(NUM_ITERS)]\n",
        "mode = cv2.Stitcher_PANORAMA\n",
        "stitcher1 = cv2.Stitcher.create(mode)\n",
        "\n",
        "# Begin stitching\n",
        "status, result = stitcher1.stitch(tuple(resulting_images))\n",
        "if status != cv2.Stitcher_OK:\n",
        "  sys.exit(f\"Encountered status of {status}, required status of 0.\")\n",
        "else:\n",
        "  cv2.imwrite(f'stitched_image_final.jpg', result)\n",
        "\n",
        "sys.stdout.write(f\"\\rFinished stitching final image; named stitched_image_final.jpg\")\n",
        "\n"
      ]
    },
    {
      "cell_type": "markdown",
      "source": [
        "# OBSIDIAN DOME BASE STITCHER"
      ],
      "metadata": {
        "id": "mzi12CZ93Lsk"
      }
    },
    {
      "cell_type": "code",
      "source": [
        "import cv2\n",
        "from google.colab.patches import cv2_imshow\n",
        "import matplotlib.pyplot as plt\n",
        "import os\n",
        "\n",
        "print(\"Parsing images...\")\n",
        "folder_path1 = os.getcwd() + \"/100_0021/\"\n",
        "files1 = []\n",
        "for filename1 in os.listdir(folder_path1):\n",
        "    if filename1.endswith('.JPG'):\n",
        "        file_path1 = os.path.join(folder_path1, filename1)\n",
        "        files1.append(file_path1)\n",
        "print(files1)"
      ],
      "metadata": {
        "colab": {
          "base_uri": "https://localhost:8080/"
        },
        "id": "--25OPQ7zSho",
        "outputId": "e6153d11-4b15-4499-815d-695020a5106c"
      },
      "execution_count": null,
      "outputs": [
        {
          "output_type": "stream",
          "name": "stdout",
          "text": [
            "Parsing images...\n",
            "['/content/drive/.shortcut-targets-by-id/1acc0dxL8zmvnkWZkFe4Jc2ZwTrQVcGjt/CS 231A Project/100_0021/100_0021_0001.JPG', '/content/drive/.shortcut-targets-by-id/1acc0dxL8zmvnkWZkFe4Jc2ZwTrQVcGjt/CS 231A Project/100_0021/100_0021_0002.JPG', '/content/drive/.shortcut-targets-by-id/1acc0dxL8zmvnkWZkFe4Jc2ZwTrQVcGjt/CS 231A Project/100_0021/100_0021_0004.JPG', '/content/drive/.shortcut-targets-by-id/1acc0dxL8zmvnkWZkFe4Jc2ZwTrQVcGjt/CS 231A Project/100_0021/100_0021_0003.JPG', '/content/drive/.shortcut-targets-by-id/1acc0dxL8zmvnkWZkFe4Jc2ZwTrQVcGjt/CS 231A Project/100_0021/100_0021_0016.JPG', '/content/drive/.shortcut-targets-by-id/1acc0dxL8zmvnkWZkFe4Jc2ZwTrQVcGjt/CS 231A Project/100_0021/100_0021_0007.JPG', '/content/drive/.shortcut-targets-by-id/1acc0dxL8zmvnkWZkFe4Jc2ZwTrQVcGjt/CS 231A Project/100_0021/100_0021_0008.JPG', '/content/drive/.shortcut-targets-by-id/1acc0dxL8zmvnkWZkFe4Jc2ZwTrQVcGjt/CS 231A Project/100_0021/100_0021_0018.JPG', '/content/drive/.shortcut-targets-by-id/1acc0dxL8zmvnkWZkFe4Jc2ZwTrQVcGjt/CS 231A Project/100_0021/100_0021_0015.JPG', '/content/drive/.shortcut-targets-by-id/1acc0dxL8zmvnkWZkFe4Jc2ZwTrQVcGjt/CS 231A Project/100_0021/100_0021_0010.JPG', '/content/drive/.shortcut-targets-by-id/1acc0dxL8zmvnkWZkFe4Jc2ZwTrQVcGjt/CS 231A Project/100_0021/100_0021_0012.JPG', '/content/drive/.shortcut-targets-by-id/1acc0dxL8zmvnkWZkFe4Jc2ZwTrQVcGjt/CS 231A Project/100_0021/100_0021_0009.JPG', '/content/drive/.shortcut-targets-by-id/1acc0dxL8zmvnkWZkFe4Jc2ZwTrQVcGjt/CS 231A Project/100_0021/100_0021_0006.JPG', '/content/drive/.shortcut-targets-by-id/1acc0dxL8zmvnkWZkFe4Jc2ZwTrQVcGjt/CS 231A Project/100_0021/100_0021_0011.JPG', '/content/drive/.shortcut-targets-by-id/1acc0dxL8zmvnkWZkFe4Jc2ZwTrQVcGjt/CS 231A Project/100_0021/100_0021_0005.JPG', '/content/drive/.shortcut-targets-by-id/1acc0dxL8zmvnkWZkFe4Jc2ZwTrQVcGjt/CS 231A Project/100_0021/100_0021_0013.JPG', '/content/drive/.shortcut-targets-by-id/1acc0dxL8zmvnkWZkFe4Jc2ZwTrQVcGjt/CS 231A Project/100_0021/100_0021_0014.JPG', '/content/drive/.shortcut-targets-by-id/1acc0dxL8zmvnkWZkFe4Jc2ZwTrQVcGjt/CS 231A Project/100_0021/100_0021_0027.JPG', '/content/drive/.shortcut-targets-by-id/1acc0dxL8zmvnkWZkFe4Jc2ZwTrQVcGjt/CS 231A Project/100_0021/100_0021_0022.JPG', '/content/drive/.shortcut-targets-by-id/1acc0dxL8zmvnkWZkFe4Jc2ZwTrQVcGjt/CS 231A Project/100_0021/100_0021_0024.JPG', '/content/drive/.shortcut-targets-by-id/1acc0dxL8zmvnkWZkFe4Jc2ZwTrQVcGjt/CS 231A Project/100_0021/100_0021_0023.JPG', '/content/drive/.shortcut-targets-by-id/1acc0dxL8zmvnkWZkFe4Jc2ZwTrQVcGjt/CS 231A Project/100_0021/100_0021_0030.JPG', '/content/drive/.shortcut-targets-by-id/1acc0dxL8zmvnkWZkFe4Jc2ZwTrQVcGjt/CS 231A Project/100_0021/100_0021_0031.JPG', '/content/drive/.shortcut-targets-by-id/1acc0dxL8zmvnkWZkFe4Jc2ZwTrQVcGjt/CS 231A Project/100_0021/100_0021_0029.JPG', '/content/drive/.shortcut-targets-by-id/1acc0dxL8zmvnkWZkFe4Jc2ZwTrQVcGjt/CS 231A Project/100_0021/100_0021_0033.JPG', '/content/drive/.shortcut-targets-by-id/1acc0dxL8zmvnkWZkFe4Jc2ZwTrQVcGjt/CS 231A Project/100_0021/100_0021_0020.JPG', '/content/drive/.shortcut-targets-by-id/1acc0dxL8zmvnkWZkFe4Jc2ZwTrQVcGjt/CS 231A Project/100_0021/100_0021_0025.JPG', '/content/drive/.shortcut-targets-by-id/1acc0dxL8zmvnkWZkFe4Jc2ZwTrQVcGjt/CS 231A Project/100_0021/100_0021_0026.JPG', '/content/drive/.shortcut-targets-by-id/1acc0dxL8zmvnkWZkFe4Jc2ZwTrQVcGjt/CS 231A Project/100_0021/100_0021_0028.JPG', '/content/drive/.shortcut-targets-by-id/1acc0dxL8zmvnkWZkFe4Jc2ZwTrQVcGjt/CS 231A Project/100_0021/100_0021_0035.JPG', '/content/drive/.shortcut-targets-by-id/1acc0dxL8zmvnkWZkFe4Jc2ZwTrQVcGjt/CS 231A Project/100_0021/100_0021_0019.JPG', '/content/drive/.shortcut-targets-by-id/1acc0dxL8zmvnkWZkFe4Jc2ZwTrQVcGjt/CS 231A Project/100_0021/100_0021_0032.JPG', '/content/drive/.shortcut-targets-by-id/1acc0dxL8zmvnkWZkFe4Jc2ZwTrQVcGjt/CS 231A Project/100_0021/100_0021_0021.JPG', '/content/drive/.shortcut-targets-by-id/1acc0dxL8zmvnkWZkFe4Jc2ZwTrQVcGjt/CS 231A Project/100_0021/100_0021_0041.JPG', '/content/drive/.shortcut-targets-by-id/1acc0dxL8zmvnkWZkFe4Jc2ZwTrQVcGjt/CS 231A Project/100_0021/100_0021_0053.JPG', '/content/drive/.shortcut-targets-by-id/1acc0dxL8zmvnkWZkFe4Jc2ZwTrQVcGjt/CS 231A Project/100_0021/100_0021_0048.JPG', '/content/drive/.shortcut-targets-by-id/1acc0dxL8zmvnkWZkFe4Jc2ZwTrQVcGjt/CS 231A Project/100_0021/100_0021_0040.JPG', '/content/drive/.shortcut-targets-by-id/1acc0dxL8zmvnkWZkFe4Jc2ZwTrQVcGjt/CS 231A Project/100_0021/100_0021_0039.JPG', '/content/drive/.shortcut-targets-by-id/1acc0dxL8zmvnkWZkFe4Jc2ZwTrQVcGjt/CS 231A Project/100_0021/100_0021_0042.JPG', '/content/drive/.shortcut-targets-by-id/1acc0dxL8zmvnkWZkFe4Jc2ZwTrQVcGjt/CS 231A Project/100_0021/100_0021_0043.JPG', '/content/drive/.shortcut-targets-by-id/1acc0dxL8zmvnkWZkFe4Jc2ZwTrQVcGjt/CS 231A Project/100_0021/100_0021_0044.JPG', '/content/drive/.shortcut-targets-by-id/1acc0dxL8zmvnkWZkFe4Jc2ZwTrQVcGjt/CS 231A Project/100_0021/100_0021_0038.JPG', '/content/drive/.shortcut-targets-by-id/1acc0dxL8zmvnkWZkFe4Jc2ZwTrQVcGjt/CS 231A Project/100_0021/100_0021_0046.JPG', '/content/drive/.shortcut-targets-by-id/1acc0dxL8zmvnkWZkFe4Jc2ZwTrQVcGjt/CS 231A Project/100_0021/100_0021_0049.JPG', '/content/drive/.shortcut-targets-by-id/1acc0dxL8zmvnkWZkFe4Jc2ZwTrQVcGjt/CS 231A Project/100_0021/100_0021_0036.JPG', '/content/drive/.shortcut-targets-by-id/1acc0dxL8zmvnkWZkFe4Jc2ZwTrQVcGjt/CS 231A Project/100_0021/100_0021_0045.JPG', '/content/drive/.shortcut-targets-by-id/1acc0dxL8zmvnkWZkFe4Jc2ZwTrQVcGjt/CS 231A Project/100_0021/100_0021_0052.JPG', '/content/drive/.shortcut-targets-by-id/1acc0dxL8zmvnkWZkFe4Jc2ZwTrQVcGjt/CS 231A Project/100_0021/100_0021_0037.JPG', '/content/drive/.shortcut-targets-by-id/1acc0dxL8zmvnkWZkFe4Jc2ZwTrQVcGjt/CS 231A Project/100_0021/100_0021_0047.JPG', '/content/drive/.shortcut-targets-by-id/1acc0dxL8zmvnkWZkFe4Jc2ZwTrQVcGjt/CS 231A Project/100_0021/100_0021_0050.JPG', '/content/drive/.shortcut-targets-by-id/1acc0dxL8zmvnkWZkFe4Jc2ZwTrQVcGjt/CS 231A Project/100_0021/100_0021_0063.JPG', '/content/drive/.shortcut-targets-by-id/1acc0dxL8zmvnkWZkFe4Jc2ZwTrQVcGjt/CS 231A Project/100_0021/100_0021_0064.JPG', '/content/drive/.shortcut-targets-by-id/1acc0dxL8zmvnkWZkFe4Jc2ZwTrQVcGjt/CS 231A Project/100_0021/100_0021_0056.JPG', '/content/drive/.shortcut-targets-by-id/1acc0dxL8zmvnkWZkFe4Jc2ZwTrQVcGjt/CS 231A Project/100_0021/100_0021_0054.JPG', '/content/drive/.shortcut-targets-by-id/1acc0dxL8zmvnkWZkFe4Jc2ZwTrQVcGjt/CS 231A Project/100_0021/100_0021_0055.JPG', '/content/drive/.shortcut-targets-by-id/1acc0dxL8zmvnkWZkFe4Jc2ZwTrQVcGjt/CS 231A Project/100_0021/100_0021_0065.JPG', '/content/drive/.shortcut-targets-by-id/1acc0dxL8zmvnkWZkFe4Jc2ZwTrQVcGjt/CS 231A Project/100_0021/100_0021_0057.JPG', '/content/drive/.shortcut-targets-by-id/1acc0dxL8zmvnkWZkFe4Jc2ZwTrQVcGjt/CS 231A Project/100_0021/100_0021_0060.JPG', '/content/drive/.shortcut-targets-by-id/1acc0dxL8zmvnkWZkFe4Jc2ZwTrQVcGjt/CS 231A Project/100_0021/100_0021_0058.JPG', '/content/drive/.shortcut-targets-by-id/1acc0dxL8zmvnkWZkFe4Jc2ZwTrQVcGjt/CS 231A Project/100_0021/100_0021_0061.JPG', '/content/drive/.shortcut-targets-by-id/1acc0dxL8zmvnkWZkFe4Jc2ZwTrQVcGjt/CS 231A Project/100_0021/100_0021_0062.JPG', '/content/drive/.shortcut-targets-by-id/1acc0dxL8zmvnkWZkFe4Jc2ZwTrQVcGjt/CS 231A Project/100_0021/100_0021_0059.JPG', '/content/drive/.shortcut-targets-by-id/1acc0dxL8zmvnkWZkFe4Jc2ZwTrQVcGjt/CS 231A Project/100_0021/100_0021_0102.JPG', '/content/drive/.shortcut-targets-by-id/1acc0dxL8zmvnkWZkFe4Jc2ZwTrQVcGjt/CS 231A Project/100_0021/100_0021_0153.JPG', '/content/drive/.shortcut-targets-by-id/1acc0dxL8zmvnkWZkFe4Jc2ZwTrQVcGjt/CS 231A Project/100_0021/100_0021_0119.JPG', '/content/drive/.shortcut-targets-by-id/1acc0dxL8zmvnkWZkFe4Jc2ZwTrQVcGjt/CS 231A Project/100_0021/100_0021_0067.JPG', '/content/drive/.shortcut-targets-by-id/1acc0dxL8zmvnkWZkFe4Jc2ZwTrQVcGjt/CS 231A Project/100_0021/100_0021_0136.JPG', '/content/drive/.shortcut-targets-by-id/1acc0dxL8zmvnkWZkFe4Jc2ZwTrQVcGjt/CS 231A Project/100_0021/100_0021_0034.JPG', '/content/drive/.shortcut-targets-by-id/1acc0dxL8zmvnkWZkFe4Jc2ZwTrQVcGjt/CS 231A Project/100_0021/100_0021_0068.JPG', '/content/drive/.shortcut-targets-by-id/1acc0dxL8zmvnkWZkFe4Jc2ZwTrQVcGjt/CS 231A Project/100_0021/100_0021_0017.JPG', '/content/drive/.shortcut-targets-by-id/1acc0dxL8zmvnkWZkFe4Jc2ZwTrQVcGjt/CS 231A Project/100_0021/100_0021_0085.JPG', '/content/drive/.shortcut-targets-by-id/1acc0dxL8zmvnkWZkFe4Jc2ZwTrQVcGjt/CS 231A Project/100_0021/100_0021_0051.JPG', '/content/drive/.shortcut-targets-by-id/1acc0dxL8zmvnkWZkFe4Jc2ZwTrQVcGjt/CS 231A Project/100_0021/100_0021_0066.JPG', '/content/drive/.shortcut-targets-by-id/1acc0dxL8zmvnkWZkFe4Jc2ZwTrQVcGjt/CS 231A Project/100_0021/100_0021_0374.JPG', '/content/drive/.shortcut-targets-by-id/1acc0dxL8zmvnkWZkFe4Jc2ZwTrQVcGjt/CS 231A Project/100_0021/100_0021_0289.JPG', '/content/drive/.shortcut-targets-by-id/1acc0dxL8zmvnkWZkFe4Jc2ZwTrQVcGjt/CS 231A Project/100_0021/100_0021_0204.JPG', '/content/drive/.shortcut-targets-by-id/1acc0dxL8zmvnkWZkFe4Jc2ZwTrQVcGjt/CS 231A Project/100_0021/100_0021_0272.JPG', '/content/drive/.shortcut-targets-by-id/1acc0dxL8zmvnkWZkFe4Jc2ZwTrQVcGjt/CS 231A Project/100_0021/100_0021_0323.JPG', '/content/drive/.shortcut-targets-by-id/1acc0dxL8zmvnkWZkFe4Jc2ZwTrQVcGjt/CS 231A Project/100_0021/100_0021_0187.JPG', '/content/drive/.shortcut-targets-by-id/1acc0dxL8zmvnkWZkFe4Jc2ZwTrQVcGjt/CS 231A Project/100_0021/100_0021_0340.JPG', '/content/drive/.shortcut-targets-by-id/1acc0dxL8zmvnkWZkFe4Jc2ZwTrQVcGjt/CS 231A Project/100_0021/100_0021_0306.JPG', '/content/drive/.shortcut-targets-by-id/1acc0dxL8zmvnkWZkFe4Jc2ZwTrQVcGjt/CS 231A Project/100_0021/100_0021_0238.JPG', '/content/drive/.shortcut-targets-by-id/1acc0dxL8zmvnkWZkFe4Jc2ZwTrQVcGjt/CS 231A Project/100_0021/100_0021_0357.JPG', '/content/drive/.shortcut-targets-by-id/1acc0dxL8zmvnkWZkFe4Jc2ZwTrQVcGjt/CS 231A Project/100_0021/100_0021_0221.JPG', '/content/drive/.shortcut-targets-by-id/1acc0dxL8zmvnkWZkFe4Jc2ZwTrQVcGjt/CS 231A Project/100_0021/100_0021_0170.JPG', '/content/drive/.shortcut-targets-by-id/1acc0dxL8zmvnkWZkFe4Jc2ZwTrQVcGjt/CS 231A Project/100_0021/100_0021_0255.JPG', '/content/drive/.shortcut-targets-by-id/1acc0dxL8zmvnkWZkFe4Jc2ZwTrQVcGjt/CS 231A Project/100_0021/100_0021_0076.JPG', '/content/drive/.shortcut-targets-by-id/1acc0dxL8zmvnkWZkFe4Jc2ZwTrQVcGjt/CS 231A Project/100_0021/100_0021_0408.JPG', '/content/drive/.shortcut-targets-by-id/1acc0dxL8zmvnkWZkFe4Jc2ZwTrQVcGjt/CS 231A Project/100_0021/100_0021_0070.JPG', '/content/drive/.shortcut-targets-by-id/1acc0dxL8zmvnkWZkFe4Jc2ZwTrQVcGjt/CS 231A Project/100_0021/100_0021_0074.JPG', '/content/drive/.shortcut-targets-by-id/1acc0dxL8zmvnkWZkFe4Jc2ZwTrQVcGjt/CS 231A Project/100_0021/100_0021_0391.JPG', '/content/drive/.shortcut-targets-by-id/1acc0dxL8zmvnkWZkFe4Jc2ZwTrQVcGjt/CS 231A Project/100_0021/100_0021_0073.JPG', '/content/drive/.shortcut-targets-by-id/1acc0dxL8zmvnkWZkFe4Jc2ZwTrQVcGjt/CS 231A Project/100_0021/100_0021_0075.JPG', '/content/drive/.shortcut-targets-by-id/1acc0dxL8zmvnkWZkFe4Jc2ZwTrQVcGjt/CS 231A Project/100_0021/100_0021_0071.JPG', '/content/drive/.shortcut-targets-by-id/1acc0dxL8zmvnkWZkFe4Jc2ZwTrQVcGjt/CS 231A Project/100_0021/100_0021_0069.JPG', '/content/drive/.shortcut-targets-by-id/1acc0dxL8zmvnkWZkFe4Jc2ZwTrQVcGjt/CS 231A Project/100_0021/100_0021_0072.JPG', '/content/drive/.shortcut-targets-by-id/1acc0dxL8zmvnkWZkFe4Jc2ZwTrQVcGjt/CS 231A Project/100_0021/100_0021_0089.JPG', '/content/drive/.shortcut-targets-by-id/1acc0dxL8zmvnkWZkFe4Jc2ZwTrQVcGjt/CS 231A Project/100_0021/100_0021_0081.JPG', '/content/drive/.shortcut-targets-by-id/1acc0dxL8zmvnkWZkFe4Jc2ZwTrQVcGjt/CS 231A Project/100_0021/100_0021_0083.JPG', '/content/drive/.shortcut-targets-by-id/1acc0dxL8zmvnkWZkFe4Jc2ZwTrQVcGjt/CS 231A Project/100_0021/100_0021_0088.JPG', '/content/drive/.shortcut-targets-by-id/1acc0dxL8zmvnkWZkFe4Jc2ZwTrQVcGjt/CS 231A Project/100_0021/100_0021_0084.JPG', '/content/drive/.shortcut-targets-by-id/1acc0dxL8zmvnkWZkFe4Jc2ZwTrQVcGjt/CS 231A Project/100_0021/100_0021_0079.JPG', '/content/drive/.shortcut-targets-by-id/1acc0dxL8zmvnkWZkFe4Jc2ZwTrQVcGjt/CS 231A Project/100_0021/100_0021_0078.JPG', '/content/drive/.shortcut-targets-by-id/1acc0dxL8zmvnkWZkFe4Jc2ZwTrQVcGjt/CS 231A Project/100_0021/100_0021_0086.JPG', '/content/drive/.shortcut-targets-by-id/1acc0dxL8zmvnkWZkFe4Jc2ZwTrQVcGjt/CS 231A Project/100_0021/100_0021_0082.JPG', '/content/drive/.shortcut-targets-by-id/1acc0dxL8zmvnkWZkFe4Jc2ZwTrQVcGjt/CS 231A Project/100_0021/100_0021_0080.JPG', '/content/drive/.shortcut-targets-by-id/1acc0dxL8zmvnkWZkFe4Jc2ZwTrQVcGjt/CS 231A Project/100_0021/100_0021_0077.JPG', '/content/drive/.shortcut-targets-by-id/1acc0dxL8zmvnkWZkFe4Jc2ZwTrQVcGjt/CS 231A Project/100_0021/100_0021_0087.JPG', '/content/drive/.shortcut-targets-by-id/1acc0dxL8zmvnkWZkFe4Jc2ZwTrQVcGjt/CS 231A Project/100_0021/100_0021_0099.JPG', '/content/drive/.shortcut-targets-by-id/1acc0dxL8zmvnkWZkFe4Jc2ZwTrQVcGjt/CS 231A Project/100_0021/100_0021_0095.JPG', '/content/drive/.shortcut-targets-by-id/1acc0dxL8zmvnkWZkFe4Jc2ZwTrQVcGjt/CS 231A Project/100_0021/100_0021_0091.JPG', '/content/drive/.shortcut-targets-by-id/1acc0dxL8zmvnkWZkFe4Jc2ZwTrQVcGjt/CS 231A Project/100_0021/100_0021_0097.JPG', '/content/drive/.shortcut-targets-by-id/1acc0dxL8zmvnkWZkFe4Jc2ZwTrQVcGjt/CS 231A Project/100_0021/100_0021_0093.JPG', '/content/drive/.shortcut-targets-by-id/1acc0dxL8zmvnkWZkFe4Jc2ZwTrQVcGjt/CS 231A Project/100_0021/100_0021_0090.JPG', '/content/drive/.shortcut-targets-by-id/1acc0dxL8zmvnkWZkFe4Jc2ZwTrQVcGjt/CS 231A Project/100_0021/100_0021_0096.JPG', '/content/drive/.shortcut-targets-by-id/1acc0dxL8zmvnkWZkFe4Jc2ZwTrQVcGjt/CS 231A Project/100_0021/100_0021_0092.JPG', '/content/drive/.shortcut-targets-by-id/1acc0dxL8zmvnkWZkFe4Jc2ZwTrQVcGjt/CS 231A Project/100_0021/100_0021_0100.JPG', '/content/drive/.shortcut-targets-by-id/1acc0dxL8zmvnkWZkFe4Jc2ZwTrQVcGjt/CS 231A Project/100_0021/100_0021_0094.JPG', '/content/drive/.shortcut-targets-by-id/1acc0dxL8zmvnkWZkFe4Jc2ZwTrQVcGjt/CS 231A Project/100_0021/100_0021_0098.JPG', '/content/drive/.shortcut-targets-by-id/1acc0dxL8zmvnkWZkFe4Jc2ZwTrQVcGjt/CS 231A Project/100_0021/100_0021_0103.JPG', '/content/drive/.shortcut-targets-by-id/1acc0dxL8zmvnkWZkFe4Jc2ZwTrQVcGjt/CS 231A Project/100_0021/100_0021_0110.JPG', '/content/drive/.shortcut-targets-by-id/1acc0dxL8zmvnkWZkFe4Jc2ZwTrQVcGjt/CS 231A Project/100_0021/100_0021_0107.JPG', '/content/drive/.shortcut-targets-by-id/1acc0dxL8zmvnkWZkFe4Jc2ZwTrQVcGjt/CS 231A Project/100_0021/100_0021_0104.JPG', '/content/drive/.shortcut-targets-by-id/1acc0dxL8zmvnkWZkFe4Jc2ZwTrQVcGjt/CS 231A Project/100_0021/100_0021_0105.JPG', '/content/drive/.shortcut-targets-by-id/1acc0dxL8zmvnkWZkFe4Jc2ZwTrQVcGjt/CS 231A Project/100_0021/100_0021_0109.JPG', '/content/drive/.shortcut-targets-by-id/1acc0dxL8zmvnkWZkFe4Jc2ZwTrQVcGjt/CS 231A Project/100_0021/100_0021_0108.JPG', '/content/drive/.shortcut-targets-by-id/1acc0dxL8zmvnkWZkFe4Jc2ZwTrQVcGjt/CS 231A Project/100_0021/100_0021_0111.JPG', '/content/drive/.shortcut-targets-by-id/1acc0dxL8zmvnkWZkFe4Jc2ZwTrQVcGjt/CS 231A Project/100_0021/100_0021_0101.JPG', '/content/drive/.shortcut-targets-by-id/1acc0dxL8zmvnkWZkFe4Jc2ZwTrQVcGjt/CS 231A Project/100_0021/100_0021_0106.JPG', '/content/drive/.shortcut-targets-by-id/1acc0dxL8zmvnkWZkFe4Jc2ZwTrQVcGjt/CS 231A Project/100_0021/100_0021_0114.JPG', '/content/drive/.shortcut-targets-by-id/1acc0dxL8zmvnkWZkFe4Jc2ZwTrQVcGjt/CS 231A Project/100_0021/100_0021_0122.JPG', '/content/drive/.shortcut-targets-by-id/1acc0dxL8zmvnkWZkFe4Jc2ZwTrQVcGjt/CS 231A Project/100_0021/100_0021_0117.JPG', '/content/drive/.shortcut-targets-by-id/1acc0dxL8zmvnkWZkFe4Jc2ZwTrQVcGjt/CS 231A Project/100_0021/100_0021_0120.JPG', '/content/drive/.shortcut-targets-by-id/1acc0dxL8zmvnkWZkFe4Jc2ZwTrQVcGjt/CS 231A Project/100_0021/100_0021_0112.JPG', '/content/drive/.shortcut-targets-by-id/1acc0dxL8zmvnkWZkFe4Jc2ZwTrQVcGjt/CS 231A Project/100_0021/100_0021_0116.JPG', '/content/drive/.shortcut-targets-by-id/1acc0dxL8zmvnkWZkFe4Jc2ZwTrQVcGjt/CS 231A Project/100_0021/100_0021_0118.JPG', '/content/drive/.shortcut-targets-by-id/1acc0dxL8zmvnkWZkFe4Jc2ZwTrQVcGjt/CS 231A Project/100_0021/100_0021_0121.JPG', '/content/drive/.shortcut-targets-by-id/1acc0dxL8zmvnkWZkFe4Jc2ZwTrQVcGjt/CS 231A Project/100_0021/100_0021_0113.JPG', '/content/drive/.shortcut-targets-by-id/1acc0dxL8zmvnkWZkFe4Jc2ZwTrQVcGjt/CS 231A Project/100_0021/100_0021_0123.JPG', '/content/drive/.shortcut-targets-by-id/1acc0dxL8zmvnkWZkFe4Jc2ZwTrQVcGjt/CS 231A Project/100_0021/100_0021_0115.JPG', '/content/drive/.shortcut-targets-by-id/1acc0dxL8zmvnkWZkFe4Jc2ZwTrQVcGjt/CS 231A Project/100_0021/100_0021_0130.JPG', '/content/drive/.shortcut-targets-by-id/1acc0dxL8zmvnkWZkFe4Jc2ZwTrQVcGjt/CS 231A Project/100_0021/100_0021_0128.JPG', '/content/drive/.shortcut-targets-by-id/1acc0dxL8zmvnkWZkFe4Jc2ZwTrQVcGjt/CS 231A Project/100_0021/100_0021_0127.JPG', '/content/drive/.shortcut-targets-by-id/1acc0dxL8zmvnkWZkFe4Jc2ZwTrQVcGjt/CS 231A Project/100_0021/100_0021_0132.JPG', '/content/drive/.shortcut-targets-by-id/1acc0dxL8zmvnkWZkFe4Jc2ZwTrQVcGjt/CS 231A Project/100_0021/100_0021_0129.JPG', '/content/drive/.shortcut-targets-by-id/1acc0dxL8zmvnkWZkFe4Jc2ZwTrQVcGjt/CS 231A Project/100_0021/100_0021_0124.JPG', '/content/drive/.shortcut-targets-by-id/1acc0dxL8zmvnkWZkFe4Jc2ZwTrQVcGjt/CS 231A Project/100_0021/100_0021_0134.JPG', '/content/drive/.shortcut-targets-by-id/1acc0dxL8zmvnkWZkFe4Jc2ZwTrQVcGjt/CS 231A Project/100_0021/100_0021_0131.JPG', '/content/drive/.shortcut-targets-by-id/1acc0dxL8zmvnkWZkFe4Jc2ZwTrQVcGjt/CS 231A Project/100_0021/100_0021_0125.JPG', '/content/drive/.shortcut-targets-by-id/1acc0dxL8zmvnkWZkFe4Jc2ZwTrQVcGjt/CS 231A Project/100_0021/100_0021_0133.JPG', '/content/drive/.shortcut-targets-by-id/1acc0dxL8zmvnkWZkFe4Jc2ZwTrQVcGjt/CS 231A Project/100_0021/100_0021_0126.JPG', '/content/drive/.shortcut-targets-by-id/1acc0dxL8zmvnkWZkFe4Jc2ZwTrQVcGjt/CS 231A Project/100_0021/100_0021_0138.JPG', '/content/drive/.shortcut-targets-by-id/1acc0dxL8zmvnkWZkFe4Jc2ZwTrQVcGjt/CS 231A Project/100_0021/100_0021_0143.JPG', '/content/drive/.shortcut-targets-by-id/1acc0dxL8zmvnkWZkFe4Jc2ZwTrQVcGjt/CS 231A Project/100_0021/100_0021_0140.JPG', '/content/drive/.shortcut-targets-by-id/1acc0dxL8zmvnkWZkFe4Jc2ZwTrQVcGjt/CS 231A Project/100_0021/100_0021_0141.JPG', '/content/drive/.shortcut-targets-by-id/1acc0dxL8zmvnkWZkFe4Jc2ZwTrQVcGjt/CS 231A Project/100_0021/100_0021_0142.JPG', '/content/drive/.shortcut-targets-by-id/1acc0dxL8zmvnkWZkFe4Jc2ZwTrQVcGjt/CS 231A Project/100_0021/100_0021_0144.JPG', '/content/drive/.shortcut-targets-by-id/1acc0dxL8zmvnkWZkFe4Jc2ZwTrQVcGjt/CS 231A Project/100_0021/100_0021_0146.JPG', '/content/drive/.shortcut-targets-by-id/1acc0dxL8zmvnkWZkFe4Jc2ZwTrQVcGjt/CS 231A Project/100_0021/100_0021_0137.JPG', '/content/drive/.shortcut-targets-by-id/1acc0dxL8zmvnkWZkFe4Jc2ZwTrQVcGjt/CS 231A Project/100_0021/100_0021_0145.JPG', '/content/drive/.shortcut-targets-by-id/1acc0dxL8zmvnkWZkFe4Jc2ZwTrQVcGjt/CS 231A Project/100_0021/100_0021_0135.JPG', '/content/drive/.shortcut-targets-by-id/1acc0dxL8zmvnkWZkFe4Jc2ZwTrQVcGjt/CS 231A Project/100_0021/100_0021_0139.JPG', '/content/drive/.shortcut-targets-by-id/1acc0dxL8zmvnkWZkFe4Jc2ZwTrQVcGjt/CS 231A Project/100_0021/100_0021_0157.JPG', '/content/drive/.shortcut-targets-by-id/1acc0dxL8zmvnkWZkFe4Jc2ZwTrQVcGjt/CS 231A Project/100_0021/100_0021_0155.JPG', '/content/drive/.shortcut-targets-by-id/1acc0dxL8zmvnkWZkFe4Jc2ZwTrQVcGjt/CS 231A Project/100_0021/100_0021_0160.JPG', '/content/drive/.shortcut-targets-by-id/1acc0dxL8zmvnkWZkFe4Jc2ZwTrQVcGjt/CS 231A Project/100_0021/100_0021_0158.JPG', '/content/drive/.shortcut-targets-by-id/1acc0dxL8zmvnkWZkFe4Jc2ZwTrQVcGjt/CS 231A Project/100_0021/100_0021_0152.JPG', '/content/drive/.shortcut-targets-by-id/1acc0dxL8zmvnkWZkFe4Jc2ZwTrQVcGjt/CS 231A Project/100_0021/100_0021_0149.JPG', '/content/drive/.shortcut-targets-by-id/1acc0dxL8zmvnkWZkFe4Jc2ZwTrQVcGjt/CS 231A Project/100_0021/100_0021_0147.JPG', '/content/drive/.shortcut-targets-by-id/1acc0dxL8zmvnkWZkFe4Jc2ZwTrQVcGjt/CS 231A Project/100_0021/100_0021_0154.JPG', '/content/drive/.shortcut-targets-by-id/1acc0dxL8zmvnkWZkFe4Jc2ZwTrQVcGjt/CS 231A Project/100_0021/100_0021_0156.JPG', '/content/drive/.shortcut-targets-by-id/1acc0dxL8zmvnkWZkFe4Jc2ZwTrQVcGjt/CS 231A Project/100_0021/100_0021_0150.JPG', '/content/drive/.shortcut-targets-by-id/1acc0dxL8zmvnkWZkFe4Jc2ZwTrQVcGjt/CS 231A Project/100_0021/100_0021_0159.JPG', '/content/drive/.shortcut-targets-by-id/1acc0dxL8zmvnkWZkFe4Jc2ZwTrQVcGjt/CS 231A Project/100_0021/100_0021_0151.JPG', '/content/drive/.shortcut-targets-by-id/1acc0dxL8zmvnkWZkFe4Jc2ZwTrQVcGjt/CS 231A Project/100_0021/100_0021_0161.JPG', '/content/drive/.shortcut-targets-by-id/1acc0dxL8zmvnkWZkFe4Jc2ZwTrQVcGjt/CS 231A Project/100_0021/100_0021_0148.JPG', '/content/drive/.shortcut-targets-by-id/1acc0dxL8zmvnkWZkFe4Jc2ZwTrQVcGjt/CS 231A Project/100_0021/100_0021_0175.JPG', '/content/drive/.shortcut-targets-by-id/1acc0dxL8zmvnkWZkFe4Jc2ZwTrQVcGjt/CS 231A Project/100_0021/100_0021_0163.JPG', '/content/drive/.shortcut-targets-by-id/1acc0dxL8zmvnkWZkFe4Jc2ZwTrQVcGjt/CS 231A Project/100_0021/100_0021_0169.JPG', '/content/drive/.shortcut-targets-by-id/1acc0dxL8zmvnkWZkFe4Jc2ZwTrQVcGjt/CS 231A Project/100_0021/100_0021_0165.JPG', '/content/drive/.shortcut-targets-by-id/1acc0dxL8zmvnkWZkFe4Jc2ZwTrQVcGjt/CS 231A Project/100_0021/100_0021_0166.JPG', '/content/drive/.shortcut-targets-by-id/1acc0dxL8zmvnkWZkFe4Jc2ZwTrQVcGjt/CS 231A Project/100_0021/100_0021_0174.JPG', '/content/drive/.shortcut-targets-by-id/1acc0dxL8zmvnkWZkFe4Jc2ZwTrQVcGjt/CS 231A Project/100_0021/100_0021_0167.JPG', '/content/drive/.shortcut-targets-by-id/1acc0dxL8zmvnkWZkFe4Jc2ZwTrQVcGjt/CS 231A Project/100_0021/100_0021_0164.JPG', '/content/drive/.shortcut-targets-by-id/1acc0dxL8zmvnkWZkFe4Jc2ZwTrQVcGjt/CS 231A Project/100_0021/100_0021_0162.JPG', '/content/drive/.shortcut-targets-by-id/1acc0dxL8zmvnkWZkFe4Jc2ZwTrQVcGjt/CS 231A Project/100_0021/100_0021_0168.JPG', '/content/drive/.shortcut-targets-by-id/1acc0dxL8zmvnkWZkFe4Jc2ZwTrQVcGjt/CS 231A Project/100_0021/100_0021_0171.JPG', '/content/drive/.shortcut-targets-by-id/1acc0dxL8zmvnkWZkFe4Jc2ZwTrQVcGjt/CS 231A Project/100_0021/100_0021_0172.JPG', '/content/drive/.shortcut-targets-by-id/1acc0dxL8zmvnkWZkFe4Jc2ZwTrQVcGjt/CS 231A Project/100_0021/100_0021_0173.JPG', '/content/drive/.shortcut-targets-by-id/1acc0dxL8zmvnkWZkFe4Jc2ZwTrQVcGjt/CS 231A Project/100_0021/100_0021_0194.JPG', '/content/drive/.shortcut-targets-by-id/1acc0dxL8zmvnkWZkFe4Jc2ZwTrQVcGjt/CS 231A Project/100_0021/100_0021_0190.JPG', '/content/drive/.shortcut-targets-by-id/1acc0dxL8zmvnkWZkFe4Jc2ZwTrQVcGjt/CS 231A Project/100_0021/100_0021_0182.JPG', '/content/drive/.shortcut-targets-by-id/1acc0dxL8zmvnkWZkFe4Jc2ZwTrQVcGjt/CS 231A Project/100_0021/100_0021_0191.JPG', '/content/drive/.shortcut-targets-by-id/1acc0dxL8zmvnkWZkFe4Jc2ZwTrQVcGjt/CS 231A Project/100_0021/100_0021_0183.JPG', '/content/drive/.shortcut-targets-by-id/1acc0dxL8zmvnkWZkFe4Jc2ZwTrQVcGjt/CS 231A Project/100_0021/100_0021_0189.JPG', '/content/drive/.shortcut-targets-by-id/1acc0dxL8zmvnkWZkFe4Jc2ZwTrQVcGjt/CS 231A Project/100_0021/100_0021_0184.JPG', '/content/drive/.shortcut-targets-by-id/1acc0dxL8zmvnkWZkFe4Jc2ZwTrQVcGjt/CS 231A Project/100_0021/100_0021_0180.JPG', '/content/drive/.shortcut-targets-by-id/1acc0dxL8zmvnkWZkFe4Jc2ZwTrQVcGjt/CS 231A Project/100_0021/100_0021_0178.JPG', '/content/drive/.shortcut-targets-by-id/1acc0dxL8zmvnkWZkFe4Jc2ZwTrQVcGjt/CS 231A Project/100_0021/100_0021_0185.JPG', '/content/drive/.shortcut-targets-by-id/1acc0dxL8zmvnkWZkFe4Jc2ZwTrQVcGjt/CS 231A Project/100_0021/100_0021_0192.JPG', '/content/drive/.shortcut-targets-by-id/1acc0dxL8zmvnkWZkFe4Jc2ZwTrQVcGjt/CS 231A Project/100_0021/100_0021_0186.JPG', '/content/drive/.shortcut-targets-by-id/1acc0dxL8zmvnkWZkFe4Jc2ZwTrQVcGjt/CS 231A Project/100_0021/100_0021_0177.JPG', '/content/drive/.shortcut-targets-by-id/1acc0dxL8zmvnkWZkFe4Jc2ZwTrQVcGjt/CS 231A Project/100_0021/100_0021_0181.JPG', '/content/drive/.shortcut-targets-by-id/1acc0dxL8zmvnkWZkFe4Jc2ZwTrQVcGjt/CS 231A Project/100_0021/100_0021_0176.JPG', '/content/drive/.shortcut-targets-by-id/1acc0dxL8zmvnkWZkFe4Jc2ZwTrQVcGjt/CS 231A Project/100_0021/100_0021_0193.JPG', '/content/drive/.shortcut-targets-by-id/1acc0dxL8zmvnkWZkFe4Jc2ZwTrQVcGjt/CS 231A Project/100_0021/100_0021_0179.JPG', '/content/drive/.shortcut-targets-by-id/1acc0dxL8zmvnkWZkFe4Jc2ZwTrQVcGjt/CS 231A Project/100_0021/100_0021_0188.JPG', '/content/drive/.shortcut-targets-by-id/1acc0dxL8zmvnkWZkFe4Jc2ZwTrQVcGjt/CS 231A Project/100_0021/100_0021_0198.JPG', '/content/drive/.shortcut-targets-by-id/1acc0dxL8zmvnkWZkFe4Jc2ZwTrQVcGjt/CS 231A Project/100_0021/100_0021_0206.JPG', '/content/drive/.shortcut-targets-by-id/1acc0dxL8zmvnkWZkFe4Jc2ZwTrQVcGjt/CS 231A Project/100_0021/100_0021_0205.JPG', '/content/drive/.shortcut-targets-by-id/1acc0dxL8zmvnkWZkFe4Jc2ZwTrQVcGjt/CS 231A Project/100_0021/100_0021_0201.JPG', '/content/drive/.shortcut-targets-by-id/1acc0dxL8zmvnkWZkFe4Jc2ZwTrQVcGjt/CS 231A Project/100_0021/100_0021_0202.JPG', '/content/drive/.shortcut-targets-by-id/1acc0dxL8zmvnkWZkFe4Jc2ZwTrQVcGjt/CS 231A Project/100_0021/100_0021_0197.JPG', '/content/drive/.shortcut-targets-by-id/1acc0dxL8zmvnkWZkFe4Jc2ZwTrQVcGjt/CS 231A Project/100_0021/100_0021_0207.JPG', '/content/drive/.shortcut-targets-by-id/1acc0dxL8zmvnkWZkFe4Jc2ZwTrQVcGjt/CS 231A Project/100_0021/100_0021_0195.JPG', '/content/drive/.shortcut-targets-by-id/1acc0dxL8zmvnkWZkFe4Jc2ZwTrQVcGjt/CS 231A Project/100_0021/100_0021_0203.JPG', '/content/drive/.shortcut-targets-by-id/1acc0dxL8zmvnkWZkFe4Jc2ZwTrQVcGjt/CS 231A Project/100_0021/100_0021_0208.JPG', '/content/drive/.shortcut-targets-by-id/1acc0dxL8zmvnkWZkFe4Jc2ZwTrQVcGjt/CS 231A Project/100_0021/100_0021_0199.JPG', '/content/drive/.shortcut-targets-by-id/1acc0dxL8zmvnkWZkFe4Jc2ZwTrQVcGjt/CS 231A Project/100_0021/100_0021_0200.JPG', '/content/drive/.shortcut-targets-by-id/1acc0dxL8zmvnkWZkFe4Jc2ZwTrQVcGjt/CS 231A Project/100_0021/100_0021_0196.JPG', '/content/drive/.shortcut-targets-by-id/1acc0dxL8zmvnkWZkFe4Jc2ZwTrQVcGjt/CS 231A Project/100_0021/100_0021_0212.JPG', '/content/drive/.shortcut-targets-by-id/1acc0dxL8zmvnkWZkFe4Jc2ZwTrQVcGjt/CS 231A Project/100_0021/100_0021_0211.JPG', '/content/drive/.shortcut-targets-by-id/1acc0dxL8zmvnkWZkFe4Jc2ZwTrQVcGjt/CS 231A Project/100_0021/100_0021_0218.JPG', '/content/drive/.shortcut-targets-by-id/1acc0dxL8zmvnkWZkFe4Jc2ZwTrQVcGjt/CS 231A Project/100_0021/100_0021_0213.JPG', '/content/drive/.shortcut-targets-by-id/1acc0dxL8zmvnkWZkFe4Jc2ZwTrQVcGjt/CS 231A Project/100_0021/100_0021_0220.JPG', '/content/drive/.shortcut-targets-by-id/1acc0dxL8zmvnkWZkFe4Jc2ZwTrQVcGjt/CS 231A Project/100_0021/100_0021_0222.JPG', '/content/drive/.shortcut-targets-by-id/1acc0dxL8zmvnkWZkFe4Jc2ZwTrQVcGjt/CS 231A Project/100_0021/100_0021_0219.JPG', '/content/drive/.shortcut-targets-by-id/1acc0dxL8zmvnkWZkFe4Jc2ZwTrQVcGjt/CS 231A Project/100_0021/100_0021_0214.JPG', '/content/drive/.shortcut-targets-by-id/1acc0dxL8zmvnkWZkFe4Jc2ZwTrQVcGjt/CS 231A Project/100_0021/100_0021_0216.JPG', '/content/drive/.shortcut-targets-by-id/1acc0dxL8zmvnkWZkFe4Jc2ZwTrQVcGjt/CS 231A Project/100_0021/100_0021_0209.JPG', '/content/drive/.shortcut-targets-by-id/1acc0dxL8zmvnkWZkFe4Jc2ZwTrQVcGjt/CS 231A Project/100_0021/100_0021_0210.JPG', '/content/drive/.shortcut-targets-by-id/1acc0dxL8zmvnkWZkFe4Jc2ZwTrQVcGjt/CS 231A Project/100_0021/100_0021_0215.JPG', '/content/drive/.shortcut-targets-by-id/1acc0dxL8zmvnkWZkFe4Jc2ZwTrQVcGjt/CS 231A Project/100_0021/100_0021_0217.JPG', '/content/drive/.shortcut-targets-by-id/1acc0dxL8zmvnkWZkFe4Jc2ZwTrQVcGjt/CS 231A Project/100_0021/100_0021_0227.JPG', '/content/drive/.shortcut-targets-by-id/1acc0dxL8zmvnkWZkFe4Jc2ZwTrQVcGjt/CS 231A Project/100_0021/100_0021_0223.JPG', '/content/drive/.shortcut-targets-by-id/1acc0dxL8zmvnkWZkFe4Jc2ZwTrQVcGjt/CS 231A Project/100_0021/100_0021_0235.JPG', '/content/drive/.shortcut-targets-by-id/1acc0dxL8zmvnkWZkFe4Jc2ZwTrQVcGjt/CS 231A Project/100_0021/100_0021_0225.JPG', '/content/drive/.shortcut-targets-by-id/1acc0dxL8zmvnkWZkFe4Jc2ZwTrQVcGjt/CS 231A Project/100_0021/100_0021_0230.JPG', '/content/drive/.shortcut-targets-by-id/1acc0dxL8zmvnkWZkFe4Jc2ZwTrQVcGjt/CS 231A Project/100_0021/100_0021_0229.JPG', '/content/drive/.shortcut-targets-by-id/1acc0dxL8zmvnkWZkFe4Jc2ZwTrQVcGjt/CS 231A Project/100_0021/100_0021_0233.JPG', '/content/drive/.shortcut-targets-by-id/1acc0dxL8zmvnkWZkFe4Jc2ZwTrQVcGjt/CS 231A Project/100_0021/100_0021_0231.JPG', '/content/drive/.shortcut-targets-by-id/1acc0dxL8zmvnkWZkFe4Jc2ZwTrQVcGjt/CS 231A Project/100_0021/100_0021_0228.JPG', '/content/drive/.shortcut-targets-by-id/1acc0dxL8zmvnkWZkFe4Jc2ZwTrQVcGjt/CS 231A Project/100_0021/100_0021_0234.JPG', '/content/drive/.shortcut-targets-by-id/1acc0dxL8zmvnkWZkFe4Jc2ZwTrQVcGjt/CS 231A Project/100_0021/100_0021_0232.JPG', '/content/drive/.shortcut-targets-by-id/1acc0dxL8zmvnkWZkFe4Jc2ZwTrQVcGjt/CS 231A Project/100_0021/100_0021_0224.JPG', '/content/drive/.shortcut-targets-by-id/1acc0dxL8zmvnkWZkFe4Jc2ZwTrQVcGjt/CS 231A Project/100_0021/100_0021_0236.JPG', '/content/drive/.shortcut-targets-by-id/1acc0dxL8zmvnkWZkFe4Jc2ZwTrQVcGjt/CS 231A Project/100_0021/100_0021_0226.JPG', '/content/drive/.shortcut-targets-by-id/1acc0dxL8zmvnkWZkFe4Jc2ZwTrQVcGjt/CS 231A Project/100_0021/100_0021_0245.JPG', '/content/drive/.shortcut-targets-by-id/1acc0dxL8zmvnkWZkFe4Jc2ZwTrQVcGjt/CS 231A Project/100_0021/100_0021_0239.JPG', '/content/drive/.shortcut-targets-by-id/1acc0dxL8zmvnkWZkFe4Jc2ZwTrQVcGjt/CS 231A Project/100_0021/100_0021_0243.JPG', '/content/drive/.shortcut-targets-by-id/1acc0dxL8zmvnkWZkFe4Jc2ZwTrQVcGjt/CS 231A Project/100_0021/100_0021_0240.JPG', '/content/drive/.shortcut-targets-by-id/1acc0dxL8zmvnkWZkFe4Jc2ZwTrQVcGjt/CS 231A Project/100_0021/100_0021_0251.JPG', '/content/drive/.shortcut-targets-by-id/1acc0dxL8zmvnkWZkFe4Jc2ZwTrQVcGjt/CS 231A Project/100_0021/100_0021_0244.JPG', '/content/drive/.shortcut-targets-by-id/1acc0dxL8zmvnkWZkFe4Jc2ZwTrQVcGjt/CS 231A Project/100_0021/100_0021_0249.JPG', '/content/drive/.shortcut-targets-by-id/1acc0dxL8zmvnkWZkFe4Jc2ZwTrQVcGjt/CS 231A Project/100_0021/100_0021_0241.JPG', '/content/drive/.shortcut-targets-by-id/1acc0dxL8zmvnkWZkFe4Jc2ZwTrQVcGjt/CS 231A Project/100_0021/100_0021_0247.JPG', '/content/drive/.shortcut-targets-by-id/1acc0dxL8zmvnkWZkFe4Jc2ZwTrQVcGjt/CS 231A Project/100_0021/100_0021_0250.JPG', '/content/drive/.shortcut-targets-by-id/1acc0dxL8zmvnkWZkFe4Jc2ZwTrQVcGjt/CS 231A Project/100_0021/100_0021_0248.JPG', '/content/drive/.shortcut-targets-by-id/1acc0dxL8zmvnkWZkFe4Jc2ZwTrQVcGjt/CS 231A Project/100_0021/100_0021_0242.JPG', '/content/drive/.shortcut-targets-by-id/1acc0dxL8zmvnkWZkFe4Jc2ZwTrQVcGjt/CS 231A Project/100_0021/100_0021_0246.JPG', '/content/drive/.shortcut-targets-by-id/1acc0dxL8zmvnkWZkFe4Jc2ZwTrQVcGjt/CS 231A Project/100_0021/100_0021_0237.JPG', '/content/drive/.shortcut-targets-by-id/1acc0dxL8zmvnkWZkFe4Jc2ZwTrQVcGjt/CS 231A Project/100_0021/100_0021_0262.JPG', '/content/drive/.shortcut-targets-by-id/1acc0dxL8zmvnkWZkFe4Jc2ZwTrQVcGjt/CS 231A Project/100_0021/100_0021_0256.JPG', '/content/drive/.shortcut-targets-by-id/1acc0dxL8zmvnkWZkFe4Jc2ZwTrQVcGjt/CS 231A Project/100_0021/100_0021_0258.JPG', '/content/drive/.shortcut-targets-by-id/1acc0dxL8zmvnkWZkFe4Jc2ZwTrQVcGjt/CS 231A Project/100_0021/100_0021_0260.JPG', '/content/drive/.shortcut-targets-by-id/1acc0dxL8zmvnkWZkFe4Jc2ZwTrQVcGjt/CS 231A Project/100_0021/100_0021_0254.JPG', '/content/drive/.shortcut-targets-by-id/1acc0dxL8zmvnkWZkFe4Jc2ZwTrQVcGjt/CS 231A Project/100_0021/100_0021_0252.JPG', '/content/drive/.shortcut-targets-by-id/1acc0dxL8zmvnkWZkFe4Jc2ZwTrQVcGjt/CS 231A Project/100_0021/100_0021_0264.JPG', '/content/drive/.shortcut-targets-by-id/1acc0dxL8zmvnkWZkFe4Jc2ZwTrQVcGjt/CS 231A Project/100_0021/100_0021_0257.JPG', '/content/drive/.shortcut-targets-by-id/1acc0dxL8zmvnkWZkFe4Jc2ZwTrQVcGjt/CS 231A Project/100_0021/100_0021_0263.JPG', '/content/drive/.shortcut-targets-by-id/1acc0dxL8zmvnkWZkFe4Jc2ZwTrQVcGjt/CS 231A Project/100_0021/100_0021_0253.JPG', '/content/drive/.shortcut-targets-by-id/1acc0dxL8zmvnkWZkFe4Jc2ZwTrQVcGjt/CS 231A Project/100_0021/100_0021_0261.JPG', '/content/drive/.shortcut-targets-by-id/1acc0dxL8zmvnkWZkFe4Jc2ZwTrQVcGjt/CS 231A Project/100_0021/100_0021_0259.JPG', '/content/drive/.shortcut-targets-by-id/1acc0dxL8zmvnkWZkFe4Jc2ZwTrQVcGjt/CS 231A Project/100_0021/100_0021_0271.JPG', '/content/drive/.shortcut-targets-by-id/1acc0dxL8zmvnkWZkFe4Jc2ZwTrQVcGjt/CS 231A Project/100_0021/100_0021_0268.JPG', '/content/drive/.shortcut-targets-by-id/1acc0dxL8zmvnkWZkFe4Jc2ZwTrQVcGjt/CS 231A Project/100_0021/100_0021_0274.JPG', '/content/drive/.shortcut-targets-by-id/1acc0dxL8zmvnkWZkFe4Jc2ZwTrQVcGjt/CS 231A Project/100_0021/100_0021_0270.JPG', '/content/drive/.shortcut-targets-by-id/1acc0dxL8zmvnkWZkFe4Jc2ZwTrQVcGjt/CS 231A Project/100_0021/100_0021_0277.JPG', '/content/drive/.shortcut-targets-by-id/1acc0dxL8zmvnkWZkFe4Jc2ZwTrQVcGjt/CS 231A Project/100_0021/100_0021_0275.JPG', '/content/drive/.shortcut-targets-by-id/1acc0dxL8zmvnkWZkFe4Jc2ZwTrQVcGjt/CS 231A Project/100_0021/100_0021_0276.JPG', '/content/drive/.shortcut-targets-by-id/1acc0dxL8zmvnkWZkFe4Jc2ZwTrQVcGjt/CS 231A Project/100_0021/100_0021_0266.JPG', '/content/drive/.shortcut-targets-by-id/1acc0dxL8zmvnkWZkFe4Jc2ZwTrQVcGjt/CS 231A Project/100_0021/100_0021_0273.JPG', '/content/drive/.shortcut-targets-by-id/1acc0dxL8zmvnkWZkFe4Jc2ZwTrQVcGjt/CS 231A Project/100_0021/100_0021_0265.JPG', '/content/drive/.shortcut-targets-by-id/1acc0dxL8zmvnkWZkFe4Jc2ZwTrQVcGjt/CS 231A Project/100_0021/100_0021_0267.JPG', '/content/drive/.shortcut-targets-by-id/1acc0dxL8zmvnkWZkFe4Jc2ZwTrQVcGjt/CS 231A Project/100_0021/100_0021_0269.JPG', '/content/drive/.shortcut-targets-by-id/1acc0dxL8zmvnkWZkFe4Jc2ZwTrQVcGjt/CS 231A Project/100_0021/100_0021_0285.JPG', '/content/drive/.shortcut-targets-by-id/1acc0dxL8zmvnkWZkFe4Jc2ZwTrQVcGjt/CS 231A Project/100_0021/100_0021_0280.JPG', '/content/drive/.shortcut-targets-by-id/1acc0dxL8zmvnkWZkFe4Jc2ZwTrQVcGjt/CS 231A Project/100_0021/100_0021_0283.JPG', '/content/drive/.shortcut-targets-by-id/1acc0dxL8zmvnkWZkFe4Jc2ZwTrQVcGjt/CS 231A Project/100_0021/100_0021_0278.JPG', '/content/drive/.shortcut-targets-by-id/1acc0dxL8zmvnkWZkFe4Jc2ZwTrQVcGjt/CS 231A Project/100_0021/100_0021_0287.JPG', '/content/drive/.shortcut-targets-by-id/1acc0dxL8zmvnkWZkFe4Jc2ZwTrQVcGjt/CS 231A Project/100_0021/100_0021_0288.JPG', '/content/drive/.shortcut-targets-by-id/1acc0dxL8zmvnkWZkFe4Jc2ZwTrQVcGjt/CS 231A Project/100_0021/100_0021_0284.JPG', '/content/drive/.shortcut-targets-by-id/1acc0dxL8zmvnkWZkFe4Jc2ZwTrQVcGjt/CS 231A Project/100_0021/100_0021_0281.JPG', '/content/drive/.shortcut-targets-by-id/1acc0dxL8zmvnkWZkFe4Jc2ZwTrQVcGjt/CS 231A Project/100_0021/100_0021_0282.JPG', '/content/drive/.shortcut-targets-by-id/1acc0dxL8zmvnkWZkFe4Jc2ZwTrQVcGjt/CS 231A Project/100_0021/100_0021_0286.JPG', '/content/drive/.shortcut-targets-by-id/1acc0dxL8zmvnkWZkFe4Jc2ZwTrQVcGjt/CS 231A Project/100_0021/100_0021_0279.JPG', '/content/drive/.shortcut-targets-by-id/1acc0dxL8zmvnkWZkFe4Jc2ZwTrQVcGjt/CS 231A Project/100_0021/100_0021_0296.JPG', '/content/drive/.shortcut-targets-by-id/1acc0dxL8zmvnkWZkFe4Jc2ZwTrQVcGjt/CS 231A Project/100_0021/100_0021_0291.JPG', '/content/drive/.shortcut-targets-by-id/1acc0dxL8zmvnkWZkFe4Jc2ZwTrQVcGjt/CS 231A Project/100_0021/100_0021_0299.JPG', '/content/drive/.shortcut-targets-by-id/1acc0dxL8zmvnkWZkFe4Jc2ZwTrQVcGjt/CS 231A Project/100_0021/100_0021_0298.JPG', '/content/drive/.shortcut-targets-by-id/1acc0dxL8zmvnkWZkFe4Jc2ZwTrQVcGjt/CS 231A Project/100_0021/100_0021_0295.JPG', '/content/drive/.shortcut-targets-by-id/1acc0dxL8zmvnkWZkFe4Jc2ZwTrQVcGjt/CS 231A Project/100_0021/100_0021_0290.JPG', '/content/drive/.shortcut-targets-by-id/1acc0dxL8zmvnkWZkFe4Jc2ZwTrQVcGjt/CS 231A Project/100_0021/100_0021_0293.JPG', '/content/drive/.shortcut-targets-by-id/1acc0dxL8zmvnkWZkFe4Jc2ZwTrQVcGjt/CS 231A Project/100_0021/100_0021_0292.JPG', '/content/drive/.shortcut-targets-by-id/1acc0dxL8zmvnkWZkFe4Jc2ZwTrQVcGjt/CS 231A Project/100_0021/100_0021_0294.JPG', '/content/drive/.shortcut-targets-by-id/1acc0dxL8zmvnkWZkFe4Jc2ZwTrQVcGjt/CS 231A Project/100_0021/100_0021_0297.JPG', '/content/drive/.shortcut-targets-by-id/1acc0dxL8zmvnkWZkFe4Jc2ZwTrQVcGjt/CS 231A Project/100_0021/100_0021_0308.JPG', '/content/drive/.shortcut-targets-by-id/1acc0dxL8zmvnkWZkFe4Jc2ZwTrQVcGjt/CS 231A Project/100_0021/100_0021_0304.JPG', '/content/drive/.shortcut-targets-by-id/1acc0dxL8zmvnkWZkFe4Jc2ZwTrQVcGjt/CS 231A Project/100_0021/100_0021_0309.JPG', '/content/drive/.shortcut-targets-by-id/1acc0dxL8zmvnkWZkFe4Jc2ZwTrQVcGjt/CS 231A Project/100_0021/100_0021_0300.JPG', '/content/drive/.shortcut-targets-by-id/1acc0dxL8zmvnkWZkFe4Jc2ZwTrQVcGjt/CS 231A Project/100_0021/100_0021_0307.JPG', '/content/drive/.shortcut-targets-by-id/1acc0dxL8zmvnkWZkFe4Jc2ZwTrQVcGjt/CS 231A Project/100_0021/100_0021_0310.JPG', '/content/drive/.shortcut-targets-by-id/1acc0dxL8zmvnkWZkFe4Jc2ZwTrQVcGjt/CS 231A Project/100_0021/100_0021_0302.JPG', '/content/drive/.shortcut-targets-by-id/1acc0dxL8zmvnkWZkFe4Jc2ZwTrQVcGjt/CS 231A Project/100_0021/100_0021_0303.JPG', '/content/drive/.shortcut-targets-by-id/1acc0dxL8zmvnkWZkFe4Jc2ZwTrQVcGjt/CS 231A Project/100_0021/100_0021_0301.JPG', '/content/drive/.shortcut-targets-by-id/1acc0dxL8zmvnkWZkFe4Jc2ZwTrQVcGjt/CS 231A Project/100_0021/100_0021_0305.JPG', '/content/drive/.shortcut-targets-by-id/1acc0dxL8zmvnkWZkFe4Jc2ZwTrQVcGjt/CS 231A Project/100_0021/100_0021_0312.JPG', '/content/drive/.shortcut-targets-by-id/1acc0dxL8zmvnkWZkFe4Jc2ZwTrQVcGjt/CS 231A Project/100_0021/100_0021_0319.JPG', '/content/drive/.shortcut-targets-by-id/1acc0dxL8zmvnkWZkFe4Jc2ZwTrQVcGjt/CS 231A Project/100_0021/100_0021_0313.JPG', '/content/drive/.shortcut-targets-by-id/1acc0dxL8zmvnkWZkFe4Jc2ZwTrQVcGjt/CS 231A Project/100_0021/100_0021_0311.JPG', '/content/drive/.shortcut-targets-by-id/1acc0dxL8zmvnkWZkFe4Jc2ZwTrQVcGjt/CS 231A Project/100_0021/100_0021_0318.JPG', '/content/drive/.shortcut-targets-by-id/1acc0dxL8zmvnkWZkFe4Jc2ZwTrQVcGjt/CS 231A Project/100_0021/100_0021_0315.JPG', '/content/drive/.shortcut-targets-by-id/1acc0dxL8zmvnkWZkFe4Jc2ZwTrQVcGjt/CS 231A Project/100_0021/100_0021_0317.JPG', '/content/drive/.shortcut-targets-by-id/1acc0dxL8zmvnkWZkFe4Jc2ZwTrQVcGjt/CS 231A Project/100_0021/100_0021_0314.JPG', '/content/drive/.shortcut-targets-by-id/1acc0dxL8zmvnkWZkFe4Jc2ZwTrQVcGjt/CS 231A Project/100_0021/100_0021_0320.JPG', '/content/drive/.shortcut-targets-by-id/1acc0dxL8zmvnkWZkFe4Jc2ZwTrQVcGjt/CS 231A Project/100_0021/100_0021_0316.JPG', '/content/drive/.shortcut-targets-by-id/1acc0dxL8zmvnkWZkFe4Jc2ZwTrQVcGjt/CS 231A Project/100_0021/100_0021_0321.JPG', '/content/drive/.shortcut-targets-by-id/1acc0dxL8zmvnkWZkFe4Jc2ZwTrQVcGjt/CS 231A Project/100_0021/100_0021_0327.JPG', '/content/drive/.shortcut-targets-by-id/1acc0dxL8zmvnkWZkFe4Jc2ZwTrQVcGjt/CS 231A Project/100_0021/100_0021_0325.JPG', '/content/drive/.shortcut-targets-by-id/1acc0dxL8zmvnkWZkFe4Jc2ZwTrQVcGjt/CS 231A Project/100_0021/100_0021_0332.JPG', '/content/drive/.shortcut-targets-by-id/1acc0dxL8zmvnkWZkFe4Jc2ZwTrQVcGjt/CS 231A Project/100_0021/100_0021_0330.JPG', '/content/drive/.shortcut-targets-by-id/1acc0dxL8zmvnkWZkFe4Jc2ZwTrQVcGjt/CS 231A Project/100_0021/100_0021_0324.JPG', '/content/drive/.shortcut-targets-by-id/1acc0dxL8zmvnkWZkFe4Jc2ZwTrQVcGjt/CS 231A Project/100_0021/100_0021_0328.JPG', '/content/drive/.shortcut-targets-by-id/1acc0dxL8zmvnkWZkFe4Jc2ZwTrQVcGjt/CS 231A Project/100_0021/100_0021_0322.JPG', '/content/drive/.shortcut-targets-by-id/1acc0dxL8zmvnkWZkFe4Jc2ZwTrQVcGjt/CS 231A Project/100_0021/100_0021_0326.JPG', '/content/drive/.shortcut-targets-by-id/1acc0dxL8zmvnkWZkFe4Jc2ZwTrQVcGjt/CS 231A Project/100_0021/100_0021_0329.JPG', '/content/drive/.shortcut-targets-by-id/1acc0dxL8zmvnkWZkFe4Jc2ZwTrQVcGjt/CS 231A Project/100_0021/100_0021_0331.JPG', '/content/drive/.shortcut-targets-by-id/1acc0dxL8zmvnkWZkFe4Jc2ZwTrQVcGjt/CS 231A Project/100_0021/100_0021_0336.JPG', '/content/drive/.shortcut-targets-by-id/1acc0dxL8zmvnkWZkFe4Jc2ZwTrQVcGjt/CS 231A Project/100_0021/100_0021_0342.JPG', '/content/drive/.shortcut-targets-by-id/1acc0dxL8zmvnkWZkFe4Jc2ZwTrQVcGjt/CS 231A Project/100_0021/100_0021_0337.JPG', '/content/drive/.shortcut-targets-by-id/1acc0dxL8zmvnkWZkFe4Jc2ZwTrQVcGjt/CS 231A Project/100_0021/100_0021_0339.JPG', '/content/drive/.shortcut-targets-by-id/1acc0dxL8zmvnkWZkFe4Jc2ZwTrQVcGjt/CS 231A Project/100_0021/100_0021_0341.JPG', '/content/drive/.shortcut-targets-by-id/1acc0dxL8zmvnkWZkFe4Jc2ZwTrQVcGjt/CS 231A Project/100_0021/100_0021_0343.JPG', '/content/drive/.shortcut-targets-by-id/1acc0dxL8zmvnkWZkFe4Jc2ZwTrQVcGjt/CS 231A Project/100_0021/100_0021_0334.JPG', '/content/drive/.shortcut-targets-by-id/1acc0dxL8zmvnkWZkFe4Jc2ZwTrQVcGjt/CS 231A Project/100_0021/100_0021_0338.JPG', '/content/drive/.shortcut-targets-by-id/1acc0dxL8zmvnkWZkFe4Jc2ZwTrQVcGjt/CS 231A Project/100_0021/100_0021_0333.JPG', '/content/drive/.shortcut-targets-by-id/1acc0dxL8zmvnkWZkFe4Jc2ZwTrQVcGjt/CS 231A Project/100_0021/100_0021_0335.JPG', '/content/drive/.shortcut-targets-by-id/1acc0dxL8zmvnkWZkFe4Jc2ZwTrQVcGjt/CS 231A Project/100_0021/100_0021_0353.JPG', '/content/drive/.shortcut-targets-by-id/1acc0dxL8zmvnkWZkFe4Jc2ZwTrQVcGjt/CS 231A Project/100_0021/100_0021_0349.JPG', '/content/drive/.shortcut-targets-by-id/1acc0dxL8zmvnkWZkFe4Jc2ZwTrQVcGjt/CS 231A Project/100_0021/100_0021_0351.JPG', '/content/drive/.shortcut-targets-by-id/1acc0dxL8zmvnkWZkFe4Jc2ZwTrQVcGjt/CS 231A Project/100_0021/100_0021_0354.JPG', '/content/drive/.shortcut-targets-by-id/1acc0dxL8zmvnkWZkFe4Jc2ZwTrQVcGjt/CS 231A Project/100_0021/100_0021_0347.JPG', '/content/drive/.shortcut-targets-by-id/1acc0dxL8zmvnkWZkFe4Jc2ZwTrQVcGjt/CS 231A Project/100_0021/100_0021_0348.JPG', '/content/drive/.shortcut-targets-by-id/1acc0dxL8zmvnkWZkFe4Jc2ZwTrQVcGjt/CS 231A Project/100_0021/100_0021_0345.JPG', '/content/drive/.shortcut-targets-by-id/1acc0dxL8zmvnkWZkFe4Jc2ZwTrQVcGjt/CS 231A Project/100_0021/100_0021_0344.JPG', '/content/drive/.shortcut-targets-by-id/1acc0dxL8zmvnkWZkFe4Jc2ZwTrQVcGjt/CS 231A Project/100_0021/100_0021_0350.JPG', '/content/drive/.shortcut-targets-by-id/1acc0dxL8zmvnkWZkFe4Jc2ZwTrQVcGjt/CS 231A Project/100_0021/100_0021_0352.JPG', '/content/drive/.shortcut-targets-by-id/1acc0dxL8zmvnkWZkFe4Jc2ZwTrQVcGjt/CS 231A Project/100_0021/100_0021_0346.JPG', '/content/drive/.shortcut-targets-by-id/1acc0dxL8zmvnkWZkFe4Jc2ZwTrQVcGjt/CS 231A Project/100_0021/100_0021_0363.JPG', '/content/drive/.shortcut-targets-by-id/1acc0dxL8zmvnkWZkFe4Jc2ZwTrQVcGjt/CS 231A Project/100_0021/100_0021_0362.JPG', '/content/drive/.shortcut-targets-by-id/1acc0dxL8zmvnkWZkFe4Jc2ZwTrQVcGjt/CS 231A Project/100_0021/100_0021_0361.JPG', '/content/drive/.shortcut-targets-by-id/1acc0dxL8zmvnkWZkFe4Jc2ZwTrQVcGjt/CS 231A Project/100_0021/100_0021_0356.JPG', '/content/drive/.shortcut-targets-by-id/1acc0dxL8zmvnkWZkFe4Jc2ZwTrQVcGjt/CS 231A Project/100_0021/100_0021_0358.JPG', '/content/drive/.shortcut-targets-by-id/1acc0dxL8zmvnkWZkFe4Jc2ZwTrQVcGjt/CS 231A Project/100_0021/100_0021_0364.JPG', '/content/drive/.shortcut-targets-by-id/1acc0dxL8zmvnkWZkFe4Jc2ZwTrQVcGjt/CS 231A Project/100_0021/100_0021_0360.JPG', '/content/drive/.shortcut-targets-by-id/1acc0dxL8zmvnkWZkFe4Jc2ZwTrQVcGjt/CS 231A Project/100_0021/100_0021_0366.JPG', '/content/drive/.shortcut-targets-by-id/1acc0dxL8zmvnkWZkFe4Jc2ZwTrQVcGjt/CS 231A Project/100_0021/100_0021_0355.JPG', '/content/drive/.shortcut-targets-by-id/1acc0dxL8zmvnkWZkFe4Jc2ZwTrQVcGjt/CS 231A Project/100_0021/100_0021_0359.JPG', '/content/drive/.shortcut-targets-by-id/1acc0dxL8zmvnkWZkFe4Jc2ZwTrQVcGjt/CS 231A Project/100_0021/100_0021_0365.JPG', '/content/drive/.shortcut-targets-by-id/1acc0dxL8zmvnkWZkFe4Jc2ZwTrQVcGjt/CS 231A Project/100_0021/100_0021_0370.JPG', '/content/drive/.shortcut-targets-by-id/1acc0dxL8zmvnkWZkFe4Jc2ZwTrQVcGjt/CS 231A Project/100_0021/100_0021_0369.JPG', '/content/drive/.shortcut-targets-by-id/1acc0dxL8zmvnkWZkFe4Jc2ZwTrQVcGjt/CS 231A Project/100_0021/100_0021_0376.JPG', '/content/drive/.shortcut-targets-by-id/1acc0dxL8zmvnkWZkFe4Jc2ZwTrQVcGjt/CS 231A Project/100_0021/100_0021_0377.JPG', '/content/drive/.shortcut-targets-by-id/1acc0dxL8zmvnkWZkFe4Jc2ZwTrQVcGjt/CS 231A Project/100_0021/100_0021_0378.JPG', '/content/drive/.shortcut-targets-by-id/1acc0dxL8zmvnkWZkFe4Jc2ZwTrQVcGjt/CS 231A Project/100_0021/100_0021_0372.JPG', '/content/drive/.shortcut-targets-by-id/1acc0dxL8zmvnkWZkFe4Jc2ZwTrQVcGjt/CS 231A Project/100_0021/100_0021_0367.JPG', '/content/drive/.shortcut-targets-by-id/1acc0dxL8zmvnkWZkFe4Jc2ZwTrQVcGjt/CS 231A Project/100_0021/100_0021_0371.JPG', '/content/drive/.shortcut-targets-by-id/1acc0dxL8zmvnkWZkFe4Jc2ZwTrQVcGjt/CS 231A Project/100_0021/100_0021_0373.JPG', '/content/drive/.shortcut-targets-by-id/1acc0dxL8zmvnkWZkFe4Jc2ZwTrQVcGjt/CS 231A Project/100_0021/100_0021_0368.JPG', '/content/drive/.shortcut-targets-by-id/1acc0dxL8zmvnkWZkFe4Jc2ZwTrQVcGjt/CS 231A Project/100_0021/100_0021_0375.JPG', '/content/drive/.shortcut-targets-by-id/1acc0dxL8zmvnkWZkFe4Jc2ZwTrQVcGjt/CS 231A Project/100_0021/100_0021_0382.JPG', '/content/drive/.shortcut-targets-by-id/1acc0dxL8zmvnkWZkFe4Jc2ZwTrQVcGjt/CS 231A Project/100_0021/100_0021_0381.JPG', '/content/drive/.shortcut-targets-by-id/1acc0dxL8zmvnkWZkFe4Jc2ZwTrQVcGjt/CS 231A Project/100_0021/100_0021_0385.JPG', '/content/drive/.shortcut-targets-by-id/1acc0dxL8zmvnkWZkFe4Jc2ZwTrQVcGjt/CS 231A Project/100_0021/100_0021_0387.JPG', '/content/drive/.shortcut-targets-by-id/1acc0dxL8zmvnkWZkFe4Jc2ZwTrQVcGjt/CS 231A Project/100_0021/100_0021_0388.JPG', '/content/drive/.shortcut-targets-by-id/1acc0dxL8zmvnkWZkFe4Jc2ZwTrQVcGjt/CS 231A Project/100_0021/100_0021_0380.JPG', '/content/drive/.shortcut-targets-by-id/1acc0dxL8zmvnkWZkFe4Jc2ZwTrQVcGjt/CS 231A Project/100_0021/100_0021_0384.JPG', '/content/drive/.shortcut-targets-by-id/1acc0dxL8zmvnkWZkFe4Jc2ZwTrQVcGjt/CS 231A Project/100_0021/100_0021_0389.JPG', '/content/drive/.shortcut-targets-by-id/1acc0dxL8zmvnkWZkFe4Jc2ZwTrQVcGjt/CS 231A Project/100_0021/100_0021_0379.JPG', '/content/drive/.shortcut-targets-by-id/1acc0dxL8zmvnkWZkFe4Jc2ZwTrQVcGjt/CS 231A Project/100_0021/100_0021_0386.JPG', '/content/drive/.shortcut-targets-by-id/1acc0dxL8zmvnkWZkFe4Jc2ZwTrQVcGjt/CS 231A Project/100_0021/100_0021_0383.JPG', '/content/drive/.shortcut-targets-by-id/1acc0dxL8zmvnkWZkFe4Jc2ZwTrQVcGjt/CS 231A Project/100_0021/100_0021_0401.JPG', '/content/drive/.shortcut-targets-by-id/1acc0dxL8zmvnkWZkFe4Jc2ZwTrQVcGjt/CS 231A Project/100_0021/100_0021_0392.JPG', '/content/drive/.shortcut-targets-by-id/1acc0dxL8zmvnkWZkFe4Jc2ZwTrQVcGjt/CS 231A Project/100_0021/100_0021_0400.JPG', '/content/drive/.shortcut-targets-by-id/1acc0dxL8zmvnkWZkFe4Jc2ZwTrQVcGjt/CS 231A Project/100_0021/100_0021_0390.JPG', '/content/drive/.shortcut-targets-by-id/1acc0dxL8zmvnkWZkFe4Jc2ZwTrQVcGjt/CS 231A Project/100_0021/100_0021_0403.JPG', '/content/drive/.shortcut-targets-by-id/1acc0dxL8zmvnkWZkFe4Jc2ZwTrQVcGjt/CS 231A Project/100_0021/100_0021_0405.JPG', '/content/drive/.shortcut-targets-by-id/1acc0dxL8zmvnkWZkFe4Jc2ZwTrQVcGjt/CS 231A Project/100_0021/100_0021_0397.JPG', '/content/drive/.shortcut-targets-by-id/1acc0dxL8zmvnkWZkFe4Jc2ZwTrQVcGjt/CS 231A Project/100_0021/100_0021_0398.JPG', '/content/drive/.shortcut-targets-by-id/1acc0dxL8zmvnkWZkFe4Jc2ZwTrQVcGjt/CS 231A Project/100_0021/100_0021_0399.JPG', '/content/drive/.shortcut-targets-by-id/1acc0dxL8zmvnkWZkFe4Jc2ZwTrQVcGjt/CS 231A Project/100_0021/100_0021_0395.JPG', '/content/drive/.shortcut-targets-by-id/1acc0dxL8zmvnkWZkFe4Jc2ZwTrQVcGjt/CS 231A Project/100_0021/100_0021_0394.JPG', '/content/drive/.shortcut-targets-by-id/1acc0dxL8zmvnkWZkFe4Jc2ZwTrQVcGjt/CS 231A Project/100_0021/100_0021_0402.JPG', '/content/drive/.shortcut-targets-by-id/1acc0dxL8zmvnkWZkFe4Jc2ZwTrQVcGjt/CS 231A Project/100_0021/100_0021_0404.JPG', '/content/drive/.shortcut-targets-by-id/1acc0dxL8zmvnkWZkFe4Jc2ZwTrQVcGjt/CS 231A Project/100_0021/100_0021_0396.JPG', '/content/drive/.shortcut-targets-by-id/1acc0dxL8zmvnkWZkFe4Jc2ZwTrQVcGjt/CS 231A Project/100_0021/100_0021_0393.JPG', '/content/drive/.shortcut-targets-by-id/1acc0dxL8zmvnkWZkFe4Jc2ZwTrQVcGjt/CS 231A Project/100_0021/100_0021_0412.JPG', '/content/drive/.shortcut-targets-by-id/1acc0dxL8zmvnkWZkFe4Jc2ZwTrQVcGjt/CS 231A Project/100_0021/100_0021_0410.JPG', '/content/drive/.shortcut-targets-by-id/1acc0dxL8zmvnkWZkFe4Jc2ZwTrQVcGjt/CS 231A Project/100_0021/100_0021_0406.JPG', '/content/drive/.shortcut-targets-by-id/1acc0dxL8zmvnkWZkFe4Jc2ZwTrQVcGjt/CS 231A Project/100_0021/100_0021_0416.JPG', '/content/drive/.shortcut-targets-by-id/1acc0dxL8zmvnkWZkFe4Jc2ZwTrQVcGjt/CS 231A Project/100_0021/100_0021_0411.JPG', '/content/drive/.shortcut-targets-by-id/1acc0dxL8zmvnkWZkFe4Jc2ZwTrQVcGjt/CS 231A Project/100_0021/100_0021_0417.JPG', '/content/drive/.shortcut-targets-by-id/1acc0dxL8zmvnkWZkFe4Jc2ZwTrQVcGjt/CS 231A Project/100_0021/100_0021_0407.JPG', '/content/drive/.shortcut-targets-by-id/1acc0dxL8zmvnkWZkFe4Jc2ZwTrQVcGjt/CS 231A Project/100_0021/100_0021_0409.JPG', '/content/drive/.shortcut-targets-by-id/1acc0dxL8zmvnkWZkFe4Jc2ZwTrQVcGjt/CS 231A Project/100_0021/100_0021_0414.JPG', '/content/drive/.shortcut-targets-by-id/1acc0dxL8zmvnkWZkFe4Jc2ZwTrQVcGjt/CS 231A Project/100_0021/100_0021_0413.JPG', '/content/drive/.shortcut-targets-by-id/1acc0dxL8zmvnkWZkFe4Jc2ZwTrQVcGjt/CS 231A Project/100_0021/100_0021_0415.JPG', '/content/drive/.shortcut-targets-by-id/1acc0dxL8zmvnkWZkFe4Jc2ZwTrQVcGjt/CS 231A Project/100_0021/100_0021_0419.JPG', '/content/drive/.shortcut-targets-by-id/1acc0dxL8zmvnkWZkFe4Jc2ZwTrQVcGjt/CS 231A Project/100_0021/100_0021_0421.JPG', '/content/drive/.shortcut-targets-by-id/1acc0dxL8zmvnkWZkFe4Jc2ZwTrQVcGjt/CS 231A Project/100_0021/100_0021_0420.JPG', '/content/drive/.shortcut-targets-by-id/1acc0dxL8zmvnkWZkFe4Jc2ZwTrQVcGjt/CS 231A Project/100_0021/100_0021_0418.JPG']\n"
          ]
        }
      ]
    },
    {
      "cell_type": "code",
      "source": [
        "files1 = sorted(files1)\n",
        "print(len(files1))\n",
        "files1 = [lst for i, lst in enumerate(files1) if i % 2 == 0]\n",
        "print(len(files1))"
      ],
      "metadata": {
        "colab": {
          "base_uri": "https://localhost:8080/"
        },
        "id": "YTpWcBkDze0R",
        "outputId": "b1c9af04-7c3b-4cd1-9889-f3f637612916"
      },
      "execution_count": null,
      "outputs": [
        {
          "output_type": "stream",
          "name": "stdout",
          "text": [
            "421\n",
            "211\n"
          ]
        }
      ]
    },
    {
      "cell_type": "code",
      "source": [
        "from tqdm import tqdm\n",
        "\n",
        "images1 = []\n",
        "for i in tqdm(range(len(files1))):\n",
        "    images1.append(cv2.imread(files1[i]))"
      ],
      "metadata": {
        "colab": {
          "base_uri": "https://localhost:8080/"
        },
        "id": "Aw6qH-8hzzJL",
        "outputId": "a4990f3d-eb8c-4cde-9c72-02e8e1a344be"
      },
      "execution_count": null,
      "outputs": [
        {
          "output_type": "stream",
          "name": "stderr",
          "text": [
            "100%|██████████| 211/211 [08:06<00:00,  2.30s/it]\n"
          ]
        }
      ]
    },
    {
      "cell_type": "code",
      "source": [
        "images2 = [lst for i, lst in enumerate(images1) if i % 2 == 0]"
      ],
      "metadata": {
        "id": "GjDLAW97f5BO"
      },
      "execution_count": null,
      "outputs": []
    },
    {
      "cell_type": "code",
      "source": [
        "# Image stitching for baseline orthophoto\n",
        "\n",
        "import cv2\n",
        "from google.colab.patches import cv2_imshow\n",
        "import matplotlib.pyplot as plt\n",
        "import os\n",
        "import sys\n",
        "\n",
        "\n",
        "# Set up number of iterations per for loop, look through iterations.\n",
        "NUM_ITERS = 8\n",
        "images_per_iter = [(len(images2) // NUM_ITERS) * (i + 1) for i in range(NUM_ITERS)]\n",
        "if len(images2) % NUM_ITERS != 0 :\n",
        "  images_per_iter[-1] += 1\n",
        "\n",
        "\n",
        "# Loop through stitching to reduce work per stitch.\n",
        "prev_index = 0\n",
        "for i, curr_index in enumerate(images_per_iter):\n",
        "  # Create stitcher:\n",
        "  mode = cv2.Stitcher_SCANS\n",
        "  stitcher = cv2.Stitcher.create(mode)\n",
        "\n",
        "  # Some printing info:\n",
        "  sys.stdout.write(f\"\\rStitching image set {i + 1} from images {prev_index + 1} to {curr_index}...\")\n",
        "\n",
        "  # Begin stitching: (If weird error comes up here (-220: Unknown Error Code -220), we are out of resources. Restart runtime!)\n",
        "  status, result = stitcher.stitch(tuple(images2[prev_index: curr_index]))\n",
        "  \n",
        "  # Check status; if failure, stop.\n",
        "  if status != cv2.Stitcher_OK:\n",
        "    %tb\n",
        "    sys.exit(f\"Encountered status of {status}, required status of 0.\")\n",
        "  else:\n",
        "    cv2.imwrite(f\"stitched_image_ob{i + 1}.jpg\", result)\n",
        "  \n",
        "  prev_index = curr_index\n",
        "\n",
        "\n",
        "sys.stdout.write(f\"\\rFinished stitching sub-images; stitching final image...\")\n",
        "\n",
        "#Now we stitch the resulting images:\n",
        "curr_dir = os.getcwd()\n",
        "resulting_images = [cv2.imread(f\"{curr_dir}/stitched_image_ob{j + 1}.jpg\") for j in range(NUM_ITERS)]\n",
        "\n",
        "mode = cv2.Stitcher_PANORAMA\n",
        "stitcher1 = cv2.Stitcher.create(mode)\n",
        "# Begin stitching\n",
        "sys.stdout.write(\"Stitching\")\n",
        "status, result = stitcher1.stitch(tuple(resulting_images))\n",
        "if status != cv2.Stitcher_OK:\n",
        "  sys.exit(f\"Encountered status of {status}, required status of 0.\")\n",
        "else:\n",
        "  cv2.imwrite(f'stitched_image_final_ob.jpg', result)\n",
        "\n",
        "sys.stdout.write(f\"\\rFinished stitching final image; named stitched_image_final1.jpg\")\n",
        "\n"
      ],
      "metadata": {
        "colab": {
          "base_uri": "https://localhost:8080/",
          "height": 345
        },
        "id": "nnlc4e4Mz5J0",
        "outputId": "4efb88ac-8f4e-49bf-f8bc-6eaee4b02594"
      },
      "execution_count": null,
      "outputs": [
        {
          "output_type": "stream",
          "name": "stdout",
          "text": [
            "Stitching image set 2 from images 14 to 26..."
          ]
        },
        {
          "output_type": "error",
          "ename": "SystemExit",
          "evalue": "ignored",
          "traceback": [
            "\u001b[0;31m---------------------------------------------------------------------------\u001b[0m",
            "\u001b[0;31mSystemExit\u001b[0m                                Traceback (most recent call last)",
            "\u001b[0;32m<ipython-input-14-0fddb4ddbdbb>\u001b[0m in \u001b[0;36m<module>\u001b[0;34m\u001b[0m\n\u001b[1;32m     31\u001b[0m   \u001b[0;32mif\u001b[0m \u001b[0mstatus\u001b[0m \u001b[0;34m!=\u001b[0m \u001b[0mcv2\u001b[0m\u001b[0;34m.\u001b[0m\u001b[0mStitcher_OK\u001b[0m\u001b[0;34m:\u001b[0m\u001b[0;34m\u001b[0m\u001b[0;34m\u001b[0m\u001b[0m\n\u001b[1;32m     32\u001b[0m     \u001b[0mget_ipython\u001b[0m\u001b[0;34m(\u001b[0m\u001b[0;34m)\u001b[0m\u001b[0;34m.\u001b[0m\u001b[0mrun_line_magic\u001b[0m\u001b[0;34m(\u001b[0m\u001b[0;34m'tb'\u001b[0m\u001b[0;34m,\u001b[0m \u001b[0;34m''\u001b[0m\u001b[0;34m)\u001b[0m\u001b[0;34m\u001b[0m\u001b[0;34m\u001b[0m\u001b[0m\n\u001b[0;32m---> 33\u001b[0;31m     \u001b[0msys\u001b[0m\u001b[0;34m.\u001b[0m\u001b[0mexit\u001b[0m\u001b[0;34m(\u001b[0m\u001b[0;34mf\"Encountered status of {status}, required status of 0.\"\u001b[0m\u001b[0;34m)\u001b[0m\u001b[0;34m\u001b[0m\u001b[0;34m\u001b[0m\u001b[0m\n\u001b[0m\u001b[1;32m     34\u001b[0m   \u001b[0;32melse\u001b[0m\u001b[0;34m:\u001b[0m\u001b[0;34m\u001b[0m\u001b[0;34m\u001b[0m\u001b[0m\n\u001b[1;32m     35\u001b[0m     \u001b[0mcv2\u001b[0m\u001b[0;34m.\u001b[0m\u001b[0mimwrite\u001b[0m\u001b[0;34m(\u001b[0m\u001b[0;34mf\"stitched_image_ob{i + 1}.jpg\"\u001b[0m\u001b[0;34m,\u001b[0m \u001b[0mresult\u001b[0m\u001b[0;34m)\u001b[0m\u001b[0;34m\u001b[0m\u001b[0;34m\u001b[0m\u001b[0m\n",
            "\u001b[0;31mSystemExit\u001b[0m: Encountered status of 1, required status of 0."
          ]
        },
        {
          "output_type": "error",
          "ename": "SystemExit",
          "evalue": "ignored",
          "traceback": [
            "An exception has occurred, use %tb to see the full traceback.\n",
            "\u001b[0;31mSystemExit\u001b[0m\u001b[0;31m:\u001b[0m Encountered status of 1, required status of 0.\n"
          ]
        }
      ]
    }
  ],
  "metadata": {
    "accelerator": "GPU",
    "colab": {
      "provenance": []
    },
    "gpuClass": "premium",
    "kernelspec": {
      "display_name": "Python 3",
      "name": "python3"
    },
    "language_info": {
      "name": "python"
    }
  },
  "nbformat": 4,
  "nbformat_minor": 0
}